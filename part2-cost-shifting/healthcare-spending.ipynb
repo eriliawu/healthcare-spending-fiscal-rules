{
 "cells": [
  {
   "cell_type": "markdown",
   "metadata": {},
   "source": [
    "# Healthcare spending, part 2"
   ]
  },
  {
   "cell_type": "code",
   "execution_count": 1,
   "metadata": {},
   "outputs": [
    {
     "name": "stderr",
     "output_type": "stream",
     "text": [
      "Loading required package: Matrix\n",
      "\n",
      "Please cite as: \n",
      "\n",
      " Hlavac, Marek (2018). stargazer: Well-Formatted Regression and Summary Statistics Tables.\n",
      " R package version 5.2.2. https://CRAN.R-project.org/package=stargazer \n",
      "\n",
      "\n",
      "Attaching package: 'dplyr'\n",
      "\n",
      "The following objects are masked from 'package:stats':\n",
      "\n",
      "    filter, lag\n",
      "\n",
      "The following objects are masked from 'package:base':\n",
      "\n",
      "    intersect, setdiff, setequal, union\n",
      "\n"
     ]
    }
   ],
   "source": [
    "#install.packages(\"lfe\")\n",
    "#install.packages(\"stargazer\")\n",
    "suppressWarnings(library(lfe))\n",
    "suppressWarnings(library(stargazer))\n",
    "suppressWarnings(library(dplyr))"
   ]
  },
  {
   "cell_type": "markdown",
   "metadata": {},
   "source": [
    "## 1. import data and cleanup"
   ]
  },
  {
   "cell_type": "code",
   "execution_count": 2,
   "metadata": {
    "scrolled": true
   },
   "outputs": [
    {
     "data": {
      "text/html": [
       "'C:/Users/wue04/Box Sync/healthcare-spending-fiscal-rules/part2-cost-shifting'"
      ],
      "text/latex": [
       "'C:/Users/wue04/Box Sync/healthcare-spending-fiscal-rules/part2-cost-shifting'"
      ],
      "text/markdown": [
       "'C:/Users/wue04/Box Sync/healthcare-spending-fiscal-rules/part2-cost-shifting'"
      ],
      "text/plain": [
       "[1] \"C:/Users/wue04/Box Sync/healthcare-spending-fiscal-rules/part2-cost-shifting\""
      ]
     },
     "metadata": {},
     "output_type": "display_data"
    },
    {
     "data": {
      "text/html": [
       "<table>\n",
       "<thead><tr><th scope=col>country</th><th scope=col>year</th><th scope=col>bailout</th><th scope=col>gdp</th><th scope=col>pop</th><th scope=col>debt</th><th scope=col>POP_80.</th><th scope=col>GOV_LEFT</th><th scope=col>FR</th><th scope=col>er_level</th><th scope=col>bbr_nat_2lvls</th><th scope=col>OOP_Exp</th><th scope=col>CURE</th><th scope=col>CARE</th><th scope=col>PREV</th><th scope=col>PHARM</th><th scope=col>BEDS</th><th scope=col>BEDS_LTC</th><th scope=col>CAP.FORMATION</th><th scope=col>HOSPITAL_EXP</th></tr></thead>\n",
       "<tbody>\n",
       "\t<tr><td>Australia  </td><td>1985       </td><td>0          </td><td>4.03e+11   </td><td>15788310   </td><td>         NA</td><td>300.0      </td><td>100        </td><td>1          </td><td>1          </td><td>0          </td><td> 7255.928  </td><td>14824.11   </td><td>NA         </td><td>254.089    </td><td>1157.520   </td><td>98534      </td><td>NA         </td><td>2432.782   </td><td> 9455.085  </td></tr>\n",
       "\t<tr><td>Australia  </td><td>1986       </td><td>0          </td><td>4.11e+11   </td><td>16018350   </td><td>         NA</td><td>314.3      </td><td>100        </td><td>1          </td><td>1          </td><td>0          </td><td> 8023.363  </td><td>15381.10   </td><td>NA         </td><td>284.003    </td><td>1296.217   </td><td>   NA      </td><td>NA         </td><td>2580.394   </td><td> 9785.289  </td></tr>\n",
       "\t<tr><td>Australia  </td><td>1987       </td><td>0          </td><td>4.33e+11   </td><td>16263870   </td><td>         NA</td><td>327.6      </td><td>100        </td><td>1          </td><td>1          </td><td>0          </td><td> 8325.094  </td><td>15663.99   </td><td>NA         </td><td>320.267    </td><td>1476.931   </td><td>94653      </td><td>NA         </td><td>2718.716   </td><td>10086.669  </td></tr>\n",
       "\t<tr><td>Australia  </td><td>1988       </td><td>0          </td><td>4.53e+11   </td><td>16532160   </td><td>         NA</td><td>340.5      </td><td>100        </td><td>1          </td><td>1          </td><td>0          </td><td> 9123.358  </td><td>15856.88   </td><td>NA         </td><td> 89.551    </td><td>1462.585   </td><td>   NA      </td><td>NA         </td><td>2649.690   </td><td>10011.853  </td></tr>\n",
       "\t<tr><td>Australia  </td><td>1989       </td><td>0          </td><td>4.72e+11   </td><td>16814420   </td><td>80455919201</td><td>354.1      </td><td>100        </td><td>0          </td><td>0          </td><td>0          </td><td> 9763.080  </td><td>16179.57   </td><td>NA         </td><td>118.617    </td><td>1580.287   </td><td>91312      </td><td>NA         </td><td>2663.733   </td><td> 9909.812  </td></tr>\n",
       "\t<tr><td>Australia  </td><td>1990       </td><td>0          </td><td>4.78e+11   </td><td>17065130   </td><td>78639034361</td><td>367.3      </td><td>100        </td><td>0          </td><td>0          </td><td>0          </td><td>10681.239  </td><td>16821.24   </td><td>NA         </td><td>  4.270    </td><td>1511.820   </td><td>   NA      </td><td>NA         </td><td>2573.098   </td><td>10036.322  </td></tr>\n",
       "</tbody>\n",
       "</table>\n"
      ],
      "text/latex": [
       "\\begin{tabular}{r|llllllllllllllllllll}\n",
       " country & year & bailout & gdp & pop & debt & POP\\_80. & GOV\\_LEFT & FR & er\\_level & bbr\\_nat\\_2lvls & OOP\\_Exp & CURE & CARE & PREV & PHARM & BEDS & BEDS\\_LTC & CAP.FORMATION & HOSPITAL\\_EXP\\\\\n",
       "\\hline\n",
       "\t Australia   & 1985        & 0           & 4.03e+11    & 15788310    &          NA & 300.0       & 100         & 1           & 1           & 0           &  7255.928   & 14824.11    & NA          & 254.089     & 1157.520    & 98534       & NA          & 2432.782    &  9455.085  \\\\\n",
       "\t Australia   & 1986        & 0           & 4.11e+11    & 16018350    &          NA & 314.3       & 100         & 1           & 1           & 0           &  8023.363   & 15381.10    & NA          & 284.003     & 1296.217    &    NA       & NA          & 2580.394    &  9785.289  \\\\\n",
       "\t Australia   & 1987        & 0           & 4.33e+11    & 16263870    &          NA & 327.6       & 100         & 1           & 1           & 0           &  8325.094   & 15663.99    & NA          & 320.267     & 1476.931    & 94653       & NA          & 2718.716    & 10086.669  \\\\\n",
       "\t Australia   & 1988        & 0           & 4.53e+11    & 16532160    &          NA & 340.5       & 100         & 1           & 1           & 0           &  9123.358   & 15856.88    & NA          &  89.551     & 1462.585    &    NA       & NA          & 2649.690    & 10011.853  \\\\\n",
       "\t Australia   & 1989        & 0           & 4.72e+11    & 16814420    & 80455919201 & 354.1       & 100         & 0           & 0           & 0           &  9763.080   & 16179.57    & NA          & 118.617     & 1580.287    & 91312       & NA          & 2663.733    &  9909.812  \\\\\n",
       "\t Australia   & 1990        & 0           & 4.78e+11    & 17065130    & 78639034361 & 367.3       & 100         & 0           & 0           & 0           & 10681.239   & 16821.24    & NA          &   4.270     & 1511.820    &    NA       & NA          & 2573.098    & 10036.322  \\\\\n",
       "\\end{tabular}\n"
      ],
      "text/markdown": [
       "\n",
       "| country | year | bailout | gdp | pop | debt | POP_80. | GOV_LEFT | FR | er_level | bbr_nat_2lvls | OOP_Exp | CURE | CARE | PREV | PHARM | BEDS | BEDS_LTC | CAP.FORMATION | HOSPITAL_EXP |\n",
       "|---|---|---|---|---|---|---|---|---|---|---|---|---|---|---|---|---|---|---|---|\n",
       "| Australia   | 1985        | 0           | 4.03e+11    | 15788310    |          NA | 300.0       | 100         | 1           | 1           | 0           |  7255.928   | 14824.11    | NA          | 254.089     | 1157.520    | 98534       | NA          | 2432.782    |  9455.085   |\n",
       "| Australia   | 1986        | 0           | 4.11e+11    | 16018350    |          NA | 314.3       | 100         | 1           | 1           | 0           |  8023.363   | 15381.10    | NA          | 284.003     | 1296.217    |    NA       | NA          | 2580.394    |  9785.289   |\n",
       "| Australia   | 1987        | 0           | 4.33e+11    | 16263870    |          NA | 327.6       | 100         | 1           | 1           | 0           |  8325.094   | 15663.99    | NA          | 320.267     | 1476.931    | 94653       | NA          | 2718.716    | 10086.669   |\n",
       "| Australia   | 1988        | 0           | 4.53e+11    | 16532160    |          NA | 340.5       | 100         | 1           | 1           | 0           |  9123.358   | 15856.88    | NA          |  89.551     | 1462.585    |    NA       | NA          | 2649.690    | 10011.853   |\n",
       "| Australia   | 1989        | 0           | 4.72e+11    | 16814420    | 80455919201 | 354.1       | 100         | 0           | 0           | 0           |  9763.080   | 16179.57    | NA          | 118.617     | 1580.287    | 91312       | NA          | 2663.733    |  9909.812   |\n",
       "| Australia   | 1990        | 0           | 4.78e+11    | 17065130    | 78639034361 | 367.3       | 100         | 0           | 0           | 0           | 10681.239   | 16821.24    | NA          |   4.270     | 1511.820    |    NA       | NA          | 2573.098    | 10036.322   |\n",
       "\n"
      ],
      "text/plain": [
       "  country   year bailout gdp      pop      debt        POP_80. GOV_LEFT FR\n",
       "1 Australia 1985 0       4.03e+11 15788310          NA 300.0   100      1 \n",
       "2 Australia 1986 0       4.11e+11 16018350          NA 314.3   100      1 \n",
       "3 Australia 1987 0       4.33e+11 16263870          NA 327.6   100      1 \n",
       "4 Australia 1988 0       4.53e+11 16532160          NA 340.5   100      1 \n",
       "5 Australia 1989 0       4.72e+11 16814420 80455919201 354.1   100      0 \n",
       "6 Australia 1990 0       4.78e+11 17065130 78639034361 367.3   100      0 \n",
       "  er_level bbr_nat_2lvls OOP_Exp   CURE     CARE PREV    PHARM    BEDS \n",
       "1 1        0              7255.928 14824.11 NA   254.089 1157.520 98534\n",
       "2 1        0              8023.363 15381.10 NA   284.003 1296.217    NA\n",
       "3 1        0              8325.094 15663.99 NA   320.267 1476.931 94653\n",
       "4 1        0              9123.358 15856.88 NA    89.551 1462.585    NA\n",
       "5 0        0              9763.080 16179.57 NA   118.617 1580.287 91312\n",
       "6 0        0             10681.239 16821.24 NA     4.270 1511.820    NA\n",
       "  BEDS_LTC CAP.FORMATION HOSPITAL_EXP\n",
       "1 NA       2432.782       9455.085   \n",
       "2 NA       2580.394       9785.289   \n",
       "3 NA       2718.716      10086.669   \n",
       "4 NA       2649.690      10011.853   \n",
       "5 NA       2663.733       9909.812   \n",
       "6 NA       2573.098      10036.322   "
      ]
     },
     "metadata": {},
     "output_type": "display_data"
    },
    {
     "data": {
      "text/html": [
       "<dl class=dl-horizontal>\n",
       "\t<dt>country</dt>\n",
       "\t\t<dd>'factor'</dd>\n",
       "\t<dt>year</dt>\n",
       "\t\t<dd>'integer'</dd>\n",
       "\t<dt>bailout</dt>\n",
       "\t\t<dd>'integer'</dd>\n",
       "\t<dt>gdp</dt>\n",
       "\t\t<dd>'numeric'</dd>\n",
       "\t<dt>pop</dt>\n",
       "\t\t<dd>'integer'</dd>\n",
       "\t<dt>debt</dt>\n",
       "\t\t<dd>'numeric'</dd>\n",
       "\t<dt>POP_80.</dt>\n",
       "\t\t<dd>'numeric'</dd>\n",
       "\t<dt>GOV_LEFT</dt>\n",
       "\t\t<dd>'integer'</dd>\n",
       "\t<dt>FR</dt>\n",
       "\t\t<dd>'integer'</dd>\n",
       "\t<dt>er_level</dt>\n",
       "\t\t<dd>'integer'</dd>\n",
       "\t<dt>bbr_nat_2lvls</dt>\n",
       "\t\t<dd>'integer'</dd>\n",
       "\t<dt>OOP_Exp</dt>\n",
       "\t\t<dd>'numeric'</dd>\n",
       "\t<dt>CURE</dt>\n",
       "\t\t<dd>'numeric'</dd>\n",
       "\t<dt>CARE</dt>\n",
       "\t\t<dd>'logical'</dd>\n",
       "\t<dt>PREV</dt>\n",
       "\t\t<dd>'numeric'</dd>\n",
       "\t<dt>PHARM</dt>\n",
       "\t\t<dd>'numeric'</dd>\n",
       "\t<dt>BEDS</dt>\n",
       "\t\t<dd>'integer'</dd>\n",
       "\t<dt>BEDS_LTC</dt>\n",
       "\t\t<dd>'logical'</dd>\n",
       "\t<dt>CAP.FORMATION</dt>\n",
       "\t\t<dd>'numeric'</dd>\n",
       "\t<dt>HOSPITAL_EXP</dt>\n",
       "\t\t<dd>'numeric'</dd>\n",
       "</dl>\n"
      ],
      "text/latex": [
       "\\begin{description*}\n",
       "\\item[country] 'factor'\n",
       "\\item[year] 'integer'\n",
       "\\item[bailout] 'integer'\n",
       "\\item[gdp] 'numeric'\n",
       "\\item[pop] 'integer'\n",
       "\\item[debt] 'numeric'\n",
       "\\item[POP\\textbackslash{}\\_80.] 'numeric'\n",
       "\\item[GOV\\textbackslash{}\\_LEFT] 'integer'\n",
       "\\item[FR] 'integer'\n",
       "\\item[er\\textbackslash{}\\_level] 'integer'\n",
       "\\item[bbr\\textbackslash{}\\_nat\\textbackslash{}\\_2lvls] 'integer'\n",
       "\\item[OOP\\textbackslash{}\\_Exp] 'numeric'\n",
       "\\item[CURE] 'numeric'\n",
       "\\item[CARE] 'logical'\n",
       "\\item[PREV] 'numeric'\n",
       "\\item[PHARM] 'numeric'\n",
       "\\item[BEDS] 'integer'\n",
       "\\item[BEDS\\textbackslash{}\\_LTC] 'logical'\n",
       "\\item[CAP.FORMATION] 'numeric'\n",
       "\\item[HOSPITAL\\textbackslash{}\\_EXP] 'numeric'\n",
       "\\end{description*}\n"
      ],
      "text/markdown": [
       "country\n",
       ":   'factor'year\n",
       ":   'integer'bailout\n",
       ":   'integer'gdp\n",
       ":   'numeric'pop\n",
       ":   'integer'debt\n",
       ":   'numeric'POP_80.\n",
       ":   'numeric'GOV_LEFT\n",
       ":   'integer'FR\n",
       ":   'integer'er_level\n",
       ":   'integer'bbr_nat_2lvls\n",
       ":   'integer'OOP_Exp\n",
       ":   'numeric'CURE\n",
       ":   'numeric'CARE\n",
       ":   'logical'PREV\n",
       ":   'numeric'PHARM\n",
       ":   'numeric'BEDS\n",
       ":   'integer'BEDS_LTC\n",
       ":   'logical'CAP.FORMATION\n",
       ":   'numeric'HOSPITAL_EXP\n",
       ":   'numeric'\n",
       "\n"
      ],
      "text/plain": [
       "      country          year       bailout           gdp           pop \n",
       "     \"factor\"     \"integer\"     \"integer\"     \"numeric\"     \"integer\" \n",
       "         debt       POP_80.      GOV_LEFT            FR      er_level \n",
       "    \"numeric\"     \"numeric\"     \"integer\"     \"integer\"     \"integer\" \n",
       "bbr_nat_2lvls       OOP_Exp          CURE          CARE          PREV \n",
       "    \"integer\"     \"numeric\"     \"numeric\"     \"logical\"     \"numeric\" \n",
       "        PHARM          BEDS      BEDS_LTC CAP.FORMATION  HOSPITAL_EXP \n",
       "    \"numeric\"     \"integer\"     \"logical\"     \"numeric\"     \"numeric\" "
      ]
     },
     "metadata": {},
     "output_type": "display_data"
    },
    {
     "data": {
      "text/html": [
       "<ol class=list-inline>\n",
       "\t<li>10</li>\n",
       "\t<li>20</li>\n",
       "</ol>\n"
      ],
      "text/latex": [
       "\\begin{enumerate*}\n",
       "\\item 10\n",
       "\\item 20\n",
       "\\end{enumerate*}\n"
      ],
      "text/markdown": [
       "1. 10\n",
       "2. 20\n",
       "\n",
       "\n"
      ],
      "text/plain": [
       "[1] 10 20"
      ]
     },
     "metadata": {},
     "output_type": "display_data"
    }
   ],
   "source": [
    "getwd()\n",
    "sample <- read.csv(\"data/health-spending.csv\", nrow=10)\n",
    "head(sample)\n",
    "sapply(sample, class)\n",
    "dim(sample)"
   ]
  },
  {
   "cell_type": "code",
   "execution_count": 4,
   "metadata": {
    "scrolled": true
   },
   "outputs": [
    {
     "data": {
      "text/html": [
       "<table>\n",
       "<thead><tr><th scope=col>country</th><th scope=col>year</th><th scope=col>bailout</th><th scope=col>gdp</th><th scope=col>pop</th><th scope=col>debt</th><th scope=col>pop80</th><th scope=col>gov_left</th><th scope=col>fr</th><th scope=col>er</th><th scope=col>...</th><th scope=col>oop</th><th scope=col>cure</th><th scope=col>care</th><th scope=col>prev</th><th scope=col>pharm</th><th scope=col>beds</th><th scope=col>beds_ltc</th><th scope=col>cap</th><th scope=col>hospital_exp</th><th scope=col>rr</th></tr></thead>\n",
       "<tbody>\n",
       "\t<tr><td>Australia  </td><td>1985       </td><td>0          </td><td>4.03e+11   </td><td>15788310   </td><td>         NA</td><td>300.0      </td><td>100        </td><td>1          </td><td>1          </td><td>...        </td><td> 7255.928  </td><td>14824.11   </td><td>NA         </td><td>254.089    </td><td>1157.520   </td><td>98534      </td><td>NA         </td><td>2432.782   </td><td> 9455.085  </td><td>1          </td></tr>\n",
       "\t<tr><td>Australia  </td><td>1986       </td><td>0          </td><td>4.11e+11   </td><td>16018350   </td><td>         NA</td><td>314.3      </td><td>100        </td><td>1          </td><td>1          </td><td>...        </td><td> 8023.363  </td><td>15381.10   </td><td>NA         </td><td>284.003    </td><td>1296.217   </td><td>   NA      </td><td>NA         </td><td>2580.394   </td><td> 9785.289  </td><td>1          </td></tr>\n",
       "\t<tr><td>Australia  </td><td>1987       </td><td>0          </td><td>4.33e+11   </td><td>16263870   </td><td>         NA</td><td>327.6      </td><td>100        </td><td>1          </td><td>1          </td><td>...        </td><td> 8325.094  </td><td>15663.99   </td><td>NA         </td><td>320.267    </td><td>1476.931   </td><td>94653      </td><td>NA         </td><td>2718.716   </td><td>10086.669  </td><td>1          </td></tr>\n",
       "\t<tr><td>Australia  </td><td>1988       </td><td>0          </td><td>4.53e+11   </td><td>16532160   </td><td>         NA</td><td>340.5      </td><td>100        </td><td>1          </td><td>1          </td><td>...        </td><td> 9123.358  </td><td>15856.88   </td><td>NA         </td><td> 89.551    </td><td>1462.585   </td><td>   NA      </td><td>NA         </td><td>2649.690   </td><td>10011.853  </td><td>1          </td></tr>\n",
       "\t<tr><td>Australia  </td><td>1989       </td><td>0          </td><td>4.72e+11   </td><td>16814420   </td><td>80455919201</td><td>354.1      </td><td>100        </td><td>0          </td><td>0          </td><td>...        </td><td> 9763.080  </td><td>16179.57   </td><td>NA         </td><td>118.617    </td><td>1580.287   </td><td>91312      </td><td>NA         </td><td>2663.733   </td><td> 9909.812  </td><td>0          </td></tr>\n",
       "\t<tr><td>Australia  </td><td>1990       </td><td>0          </td><td>4.78e+11   </td><td>17065130   </td><td>78639034361</td><td>367.3      </td><td>100        </td><td>0          </td><td>0          </td><td>...        </td><td>10681.239  </td><td>16821.24   </td><td>NA         </td><td>  4.270    </td><td>1511.820   </td><td>   NA      </td><td>NA         </td><td>2573.098   </td><td>10036.322  </td><td>0          </td></tr>\n",
       "</tbody>\n",
       "</table>\n"
      ],
      "text/latex": [
       "\\begin{tabular}{r|lllllllllllllllllllll}\n",
       " country & year & bailout & gdp & pop & debt & pop80 & gov\\_left & fr & er & ... & oop & cure & care & prev & pharm & beds & beds\\_ltc & cap & hospital\\_exp & rr\\\\\n",
       "\\hline\n",
       "\t Australia   & 1985        & 0           & 4.03e+11    & 15788310    &          NA & 300.0       & 100         & 1           & 1           & ...         &  7255.928   & 14824.11    & NA          & 254.089     & 1157.520    & 98534       & NA          & 2432.782    &  9455.085   & 1          \\\\\n",
       "\t Australia   & 1986        & 0           & 4.11e+11    & 16018350    &          NA & 314.3       & 100         & 1           & 1           & ...         &  8023.363   & 15381.10    & NA          & 284.003     & 1296.217    &    NA       & NA          & 2580.394    &  9785.289   & 1          \\\\\n",
       "\t Australia   & 1987        & 0           & 4.33e+11    & 16263870    &          NA & 327.6       & 100         & 1           & 1           & ...         &  8325.094   & 15663.99    & NA          & 320.267     & 1476.931    & 94653       & NA          & 2718.716    & 10086.669   & 1          \\\\\n",
       "\t Australia   & 1988        & 0           & 4.53e+11    & 16532160    &          NA & 340.5       & 100         & 1           & 1           & ...         &  9123.358   & 15856.88    & NA          &  89.551     & 1462.585    &    NA       & NA          & 2649.690    & 10011.853   & 1          \\\\\n",
       "\t Australia   & 1989        & 0           & 4.72e+11    & 16814420    & 80455919201 & 354.1       & 100         & 0           & 0           & ...         &  9763.080   & 16179.57    & NA          & 118.617     & 1580.287    & 91312       & NA          & 2663.733    &  9909.812   & 0          \\\\\n",
       "\t Australia   & 1990        & 0           & 4.78e+11    & 17065130    & 78639034361 & 367.3       & 100         & 0           & 0           & ...         & 10681.239   & 16821.24    & NA          &   4.270     & 1511.820    &    NA       & NA          & 2573.098    & 10036.322   & 0          \\\\\n",
       "\\end{tabular}\n"
      ],
      "text/markdown": [
       "\n",
       "| country | year | bailout | gdp | pop | debt | pop80 | gov_left | fr | er | ... | oop | cure | care | prev | pharm | beds | beds_ltc | cap | hospital_exp | rr |\n",
       "|---|---|---|---|---|---|---|---|---|---|---|---|---|---|---|---|---|---|---|---|---|\n",
       "| Australia   | 1985        | 0           | 4.03e+11    | 15788310    |          NA | 300.0       | 100         | 1           | 1           | ...         |  7255.928   | 14824.11    | NA          | 254.089     | 1157.520    | 98534       | NA          | 2432.782    |  9455.085   | 1           |\n",
       "| Australia   | 1986        | 0           | 4.11e+11    | 16018350    |          NA | 314.3       | 100         | 1           | 1           | ...         |  8023.363   | 15381.10    | NA          | 284.003     | 1296.217    |    NA       | NA          | 2580.394    |  9785.289   | 1           |\n",
       "| Australia   | 1987        | 0           | 4.33e+11    | 16263870    |          NA | 327.6       | 100         | 1           | 1           | ...         |  8325.094   | 15663.99    | NA          | 320.267     | 1476.931    | 94653       | NA          | 2718.716    | 10086.669   | 1           |\n",
       "| Australia   | 1988        | 0           | 4.53e+11    | 16532160    |          NA | 340.5       | 100         | 1           | 1           | ...         |  9123.358   | 15856.88    | NA          |  89.551     | 1462.585    |    NA       | NA          | 2649.690    | 10011.853   | 1           |\n",
       "| Australia   | 1989        | 0           | 4.72e+11    | 16814420    | 80455919201 | 354.1       | 100         | 0           | 0           | ...         |  9763.080   | 16179.57    | NA          | 118.617     | 1580.287    | 91312       | NA          | 2663.733    |  9909.812   | 0           |\n",
       "| Australia   | 1990        | 0           | 4.78e+11    | 17065130    | 78639034361 | 367.3       | 100         | 0           | 0           | ...         | 10681.239   | 16821.24    | NA          |   4.270     | 1511.820    |    NA       | NA          | 2573.098    | 10036.322   | 0           |\n",
       "\n"
      ],
      "text/plain": [
       "  country   year bailout gdp      pop      debt        pop80 gov_left fr er ...\n",
       "1 Australia 1985 0       4.03e+11 15788310          NA 300.0 100      1  1  ...\n",
       "2 Australia 1986 0       4.11e+11 16018350          NA 314.3 100      1  1  ...\n",
       "3 Australia 1987 0       4.33e+11 16263870          NA 327.6 100      1  1  ...\n",
       "4 Australia 1988 0       4.53e+11 16532160          NA 340.5 100      1  1  ...\n",
       "5 Australia 1989 0       4.72e+11 16814420 80455919201 354.1 100      0  0  ...\n",
       "6 Australia 1990 0       4.78e+11 17065130 78639034361 367.3 100      0  0  ...\n",
       "  oop       cure     care prev    pharm    beds  beds_ltc cap      hospital_exp\n",
       "1  7255.928 14824.11 NA   254.089 1157.520 98534 NA       2432.782  9455.085   \n",
       "2  8023.363 15381.10 NA   284.003 1296.217    NA NA       2580.394  9785.289   \n",
       "3  8325.094 15663.99 NA   320.267 1476.931 94653 NA       2718.716 10086.669   \n",
       "4  9123.358 15856.88 NA    89.551 1462.585    NA NA       2649.690 10011.853   \n",
       "5  9763.080 16179.57 NA   118.617 1580.287 91312 NA       2663.733  9909.812   \n",
       "6 10681.239 16821.24 NA     4.270 1511.820    NA NA       2573.098 10036.322   \n",
       "  rr\n",
       "1 1 \n",
       "2 1 \n",
       "3 1 \n",
       "4 1 \n",
       "5 0 \n",
       "6 0 "
      ]
     },
     "metadata": {},
     "output_type": "display_data"
    },
    {
     "data": {
      "text/html": [
       "<dl class=dl-horizontal>\n",
       "\t<dt>country</dt>\n",
       "\t\t<dd>'character'</dd>\n",
       "\t<dt>year</dt>\n",
       "\t\t<dd>'integer'</dd>\n",
       "\t<dt>bailout</dt>\n",
       "\t\t<dd>'integer'</dd>\n",
       "\t<dt>gdp</dt>\n",
       "\t\t<dd>'numeric'</dd>\n",
       "\t<dt>pop</dt>\n",
       "\t\t<dd>'numeric'</dd>\n",
       "\t<dt>debt</dt>\n",
       "\t\t<dd>'numeric'</dd>\n",
       "\t<dt>pop80</dt>\n",
       "\t\t<dd>'numeric'</dd>\n",
       "\t<dt>gov_left</dt>\n",
       "\t\t<dd>'numeric'</dd>\n",
       "\t<dt>fr</dt>\n",
       "\t\t<dd>'integer'</dd>\n",
       "\t<dt>er</dt>\n",
       "\t\t<dd>'integer'</dd>\n",
       "\t<dt>bbr</dt>\n",
       "\t\t<dd>'integer'</dd>\n",
       "\t<dt>oop</dt>\n",
       "\t\t<dd>'numeric'</dd>\n",
       "\t<dt>cure</dt>\n",
       "\t\t<dd>'numeric'</dd>\n",
       "\t<dt>care</dt>\n",
       "\t\t<dd>'numeric'</dd>\n",
       "\t<dt>prev</dt>\n",
       "\t\t<dd>'numeric'</dd>\n",
       "\t<dt>pharm</dt>\n",
       "\t\t<dd>'numeric'</dd>\n",
       "\t<dt>beds</dt>\n",
       "\t\t<dd>'numeric'</dd>\n",
       "\t<dt>beds_ltc</dt>\n",
       "\t\t<dd>'numeric'</dd>\n",
       "\t<dt>cap</dt>\n",
       "\t\t<dd>'numeric'</dd>\n",
       "\t<dt>hospital_exp</dt>\n",
       "\t\t<dd>'numeric'</dd>\n",
       "\t<dt>rr</dt>\n",
       "\t\t<dd>'integer'</dd>\n",
       "</dl>\n"
      ],
      "text/latex": [
       "\\begin{description*}\n",
       "\\item[country] 'character'\n",
       "\\item[year] 'integer'\n",
       "\\item[bailout] 'integer'\n",
       "\\item[gdp] 'numeric'\n",
       "\\item[pop] 'numeric'\n",
       "\\item[debt] 'numeric'\n",
       "\\item[pop80] 'numeric'\n",
       "\\item[gov\\textbackslash{}\\_left] 'numeric'\n",
       "\\item[fr] 'integer'\n",
       "\\item[er] 'integer'\n",
       "\\item[bbr] 'integer'\n",
       "\\item[oop] 'numeric'\n",
       "\\item[cure] 'numeric'\n",
       "\\item[care] 'numeric'\n",
       "\\item[prev] 'numeric'\n",
       "\\item[pharm] 'numeric'\n",
       "\\item[beds] 'numeric'\n",
       "\\item[beds\\textbackslash{}\\_ltc] 'numeric'\n",
       "\\item[cap] 'numeric'\n",
       "\\item[hospital\\textbackslash{}\\_exp] 'numeric'\n",
       "\\item[rr] 'integer'\n",
       "\\end{description*}\n"
      ],
      "text/markdown": [
       "country\n",
       ":   'character'year\n",
       ":   'integer'bailout\n",
       ":   'integer'gdp\n",
       ":   'numeric'pop\n",
       ":   'numeric'debt\n",
       ":   'numeric'pop80\n",
       ":   'numeric'gov_left\n",
       ":   'numeric'fr\n",
       ":   'integer'er\n",
       ":   'integer'bbr\n",
       ":   'integer'oop\n",
       ":   'numeric'cure\n",
       ":   'numeric'care\n",
       ":   'numeric'prev\n",
       ":   'numeric'pharm\n",
       ":   'numeric'beds\n",
       ":   'numeric'beds_ltc\n",
       ":   'numeric'cap\n",
       ":   'numeric'hospital_exp\n",
       ":   'numeric'rr\n",
       ":   'integer'\n",
       "\n"
      ],
      "text/plain": [
       "     country         year      bailout          gdp          pop         debt \n",
       " \"character\"    \"integer\"    \"integer\"    \"numeric\"    \"numeric\"    \"numeric\" \n",
       "       pop80     gov_left           fr           er          bbr          oop \n",
       "   \"numeric\"    \"numeric\"    \"integer\"    \"integer\"    \"integer\"    \"numeric\" \n",
       "        cure         care         prev        pharm         beds     beds_ltc \n",
       "   \"numeric\"    \"numeric\"    \"numeric\"    \"numeric\"    \"numeric\"    \"numeric\" \n",
       "         cap hospital_exp           rr \n",
       "   \"numeric\"    \"numeric\"    \"integer\" "
      ]
     },
     "metadata": {},
     "output_type": "display_data"
    }
   ],
   "source": [
    "health <- read.csv(\"data/health-spending.csv\",\n",
    "                  col.names=c(\"country\", \"year\", \"bailout\", \"gdp\", \"pop\", \"debt\", \"pop80\",\n",
    "                             \"gov_left\", \"fr\", \"er\", \"bbr\", \"oop\", \"cure\",\n",
    "                             \"care\", \"prev\", \"pharm\", \"beds\", \"beds_ltc\", \"cap\", \"hospital_exp\", \"rr\"))\n",
    "head(health)\n",
    "health$country <- as.character(health$country)\n",
    "sapply(health, class)"
   ]
  },
  {
   "cell_type": "code",
   "execution_count": 5,
   "metadata": {},
   "outputs": [],
   "source": [
    "# generate time lagged measuemrents\n",
    "# t-1 and t-2\n",
    "health <- health %>%\n",
    "    group_by(country) %>%\n",
    "    mutate(fr1 = lag(fr, 1))%>%\n",
    "    mutate(fr2 = lag(fr, 2))%>%\n",
    "    mutate(er1 = lag(er, 1))%>%\n",
    "    mutate(er2 = lag(er, 2))%>%\n",
    "    mutate(bbr1 = lag(bbr, 1))%>%\n",
    "    mutate(bbr2 = lag(bbr, 2))%>%\n",
    "    mutate(rr1 = lag(rr, 1))%>%\n",
    "    mutate(rr2 = lag(rr, 2))"
   ]
  },
  {
   "cell_type": "code",
   "execution_count": 6,
   "metadata": {},
   "outputs": [
    {
     "data": {
      "text/html": [
       "<ol class=list-inline>\n",
       "\t<li>'country'</li>\n",
       "\t<li>'year'</li>\n",
       "\t<li>'bailout'</li>\n",
       "\t<li>'gdp'</li>\n",
       "\t<li>'pop'</li>\n",
       "\t<li>'debt'</li>\n",
       "\t<li>'pop80'</li>\n",
       "\t<li>'gov_left'</li>\n",
       "\t<li>'fr'</li>\n",
       "\t<li>'er'</li>\n",
       "\t<li>'bbr'</li>\n",
       "\t<li>'oop'</li>\n",
       "\t<li>'cure'</li>\n",
       "\t<li>'care'</li>\n",
       "\t<li>'prev'</li>\n",
       "\t<li>'pharm'</li>\n",
       "\t<li>'beds'</li>\n",
       "\t<li>'beds_ltc'</li>\n",
       "\t<li>'cap'</li>\n",
       "\t<li>'hospital_exp'</li>\n",
       "\t<li>'rr'</li>\n",
       "\t<li>'fr1'</li>\n",
       "\t<li>'fr2'</li>\n",
       "\t<li>'er1'</li>\n",
       "\t<li>'er2'</li>\n",
       "\t<li>'bbr1'</li>\n",
       "\t<li>'bbr2'</li>\n",
       "\t<li>'rr1'</li>\n",
       "\t<li>'rr2'</li>\n",
       "</ol>\n"
      ],
      "text/latex": [
       "\\begin{enumerate*}\n",
       "\\item 'country'\n",
       "\\item 'year'\n",
       "\\item 'bailout'\n",
       "\\item 'gdp'\n",
       "\\item 'pop'\n",
       "\\item 'debt'\n",
       "\\item 'pop80'\n",
       "\\item 'gov\\_left'\n",
       "\\item 'fr'\n",
       "\\item 'er'\n",
       "\\item 'bbr'\n",
       "\\item 'oop'\n",
       "\\item 'cure'\n",
       "\\item 'care'\n",
       "\\item 'prev'\n",
       "\\item 'pharm'\n",
       "\\item 'beds'\n",
       "\\item 'beds\\_ltc'\n",
       "\\item 'cap'\n",
       "\\item 'hospital\\_exp'\n",
       "\\item 'rr'\n",
       "\\item 'fr1'\n",
       "\\item 'fr2'\n",
       "\\item 'er1'\n",
       "\\item 'er2'\n",
       "\\item 'bbr1'\n",
       "\\item 'bbr2'\n",
       "\\item 'rr1'\n",
       "\\item 'rr2'\n",
       "\\end{enumerate*}\n"
      ],
      "text/markdown": [
       "1. 'country'\n",
       "2. 'year'\n",
       "3. 'bailout'\n",
       "4. 'gdp'\n",
       "5. 'pop'\n",
       "6. 'debt'\n",
       "7. 'pop80'\n",
       "8. 'gov_left'\n",
       "9. 'fr'\n",
       "10. 'er'\n",
       "11. 'bbr'\n",
       "12. 'oop'\n",
       "13. 'cure'\n",
       "14. 'care'\n",
       "15. 'prev'\n",
       "16. 'pharm'\n",
       "17. 'beds'\n",
       "18. 'beds_ltc'\n",
       "19. 'cap'\n",
       "20. 'hospital_exp'\n",
       "21. 'rr'\n",
       "22. 'fr1'\n",
       "23. 'fr2'\n",
       "24. 'er1'\n",
       "25. 'er2'\n",
       "26. 'bbr1'\n",
       "27. 'bbr2'\n",
       "28. 'rr1'\n",
       "29. 'rr2'\n",
       "\n",
       "\n"
      ],
      "text/plain": [
       " [1] \"country\"      \"year\"         \"bailout\"      \"gdp\"          \"pop\"         \n",
       " [6] \"debt\"         \"pop80\"        \"gov_left\"     \"fr\"           \"er\"          \n",
       "[11] \"bbr\"          \"oop\"          \"cure\"         \"care\"         \"prev\"        \n",
       "[16] \"pharm\"        \"beds\"         \"beds_ltc\"     \"cap\"          \"hospital_exp\"\n",
       "[21] \"rr\"           \"fr1\"          \"fr2\"          \"er1\"          \"er2\"         \n",
       "[26] \"bbr1\"         \"bbr2\"         \"rr1\"          \"rr2\"         "
      ]
     },
     "metadata": {},
     "output_type": "display_data"
    },
    {
     "data": {
      "text/html": [
       "<table>\n",
       "<thead><tr><th scope=col>country</th><th scope=col>bbr</th><th scope=col>bbr1</th><th scope=col>bbr2</th></tr></thead>\n",
       "<tbody>\n",
       "\t<tr><td>Australia</td><td>0        </td><td>NA       </td><td>NA       </td></tr>\n",
       "\t<tr><td>Australia</td><td>0        </td><td> 0       </td><td>NA       </td></tr>\n",
       "\t<tr><td>Australia</td><td>0        </td><td> 0       </td><td> 0       </td></tr>\n",
       "\t<tr><td>Australia</td><td>0        </td><td> 0       </td><td> 0       </td></tr>\n",
       "\t<tr><td>Australia</td><td>0        </td><td> 0       </td><td> 0       </td></tr>\n",
       "\t<tr><td>Australia</td><td>0        </td><td> 0       </td><td> 0       </td></tr>\n",
       "</tbody>\n",
       "</table>\n"
      ],
      "text/latex": [
       "\\begin{tabular}{r|llll}\n",
       " country & bbr & bbr1 & bbr2\\\\\n",
       "\\hline\n",
       "\t Australia & 0         & NA        & NA       \\\\\n",
       "\t Australia & 0         &  0        & NA       \\\\\n",
       "\t Australia & 0         &  0        &  0       \\\\\n",
       "\t Australia & 0         &  0        &  0       \\\\\n",
       "\t Australia & 0         &  0        &  0       \\\\\n",
       "\t Australia & 0         &  0        &  0       \\\\\n",
       "\\end{tabular}\n"
      ],
      "text/markdown": [
       "\n",
       "| country | bbr | bbr1 | bbr2 |\n",
       "|---|---|---|---|\n",
       "| Australia | 0         | NA        | NA        |\n",
       "| Australia | 0         |  0        | NA        |\n",
       "| Australia | 0         |  0        |  0        |\n",
       "| Australia | 0         |  0        |  0        |\n",
       "| Australia | 0         |  0        |  0        |\n",
       "| Australia | 0         |  0        |  0        |\n",
       "\n"
      ],
      "text/plain": [
       "  country   bbr bbr1 bbr2\n",
       "1 Australia 0   NA   NA  \n",
       "2 Australia 0    0   NA  \n",
       "3 Australia 0    0    0  \n",
       "4 Australia 0    0    0  \n",
       "5 Australia 0    0    0  \n",
       "6 Australia 0    0    0  "
      ]
     },
     "metadata": {},
     "output_type": "display_data"
    }
   ],
   "source": [
    "names(health)\n",
    "head(health[, c(\"country\", \"bbr\", \"bbr1\", \"bbr2\")])"
   ]
  },
  {
   "cell_type": "code",
   "execution_count": 10,
   "metadata": {},
   "outputs": [
    {
     "data": {
      "text/plain": [
       "\n",
       "  0   1 \n",
       "748 212 "
      ]
     },
     "metadata": {},
     "output_type": "display_data"
    },
    {
     "data": {
      "text/plain": [
       "\n",
       "  0   1 \n",
       "689 271 "
      ]
     },
     "metadata": {},
     "output_type": "display_data"
    }
   ],
   "source": [
    "# data characteristics\n",
    "table(health$er)\n",
    "table(health$bbr)"
   ]
  },
  {
   "cell_type": "code",
   "execution_count": null,
   "metadata": {},
   "outputs": [],
   "source": [
    "rm(sample)"
   ]
  },
  {
   "cell_type": "markdown",
   "metadata": {},
   "source": [
    "## 2. regressions - main models"
   ]
  },
  {
   "cell_type": "code",
   "execution_count": 38,
   "metadata": {},
   "outputs": [],
   "source": [
    "# modify stargazer function to suppress output\n",
    "mod_stargazer <- function(output.file, ...) {\n",
    "  output <- capture.output(stargazer(...))\n",
    "  cat(paste(output, collapse = \"\\n\"), \"\\n\", file=output.file, append=TRUE)\n",
    "}"
   ]
  },
  {
   "cell_type": "markdown",
   "metadata": {},
   "source": [
    "### budget shifting\n",
    "##### log(out_of_pocket_exp) = ER + log(gdp) + log(debt) + log(pop) + bailout + fe(year) + fe(country)\n",
    "### budget setting\n",
    "##### log(cure) = ER + log(gdp) + log(debt) + log(pop) + bailout  + fe(year) + fe(country)\n",
    "##### log(hospital_exp) = ER + log(gdp) + log(debt) + log(pop) + bailout  + fe(year) + fe(country)\n",
    "##### log(care) = ER + log(gdp) + log(debt) + log(pop80) + bailout + fe(year) + fe(country)\n",
    "##### log(prev) = ER + log(gdp) + log(debt) + log(pop) + bailout + gov_left + fe(year) + fe(country)\n",
    "##### log(pharm) = ER + log(gdp) + log(debt) + log(pop) + bailout + fe(year) + fe(country)"
   ]
  },
  {
   "cell_type": "code",
   "execution_count": 45,
   "metadata": {
    "scrolled": true
   },
   "outputs": [],
   "source": [
    "shift_er <- felm(log(oop)~er+log(debt)+log(gdp)+log(pop)+bailout|as.factor(year)+as.factor(country),\n",
    "             data=health) #budget shifting\n",
    "cure_er <- felm(log(cure)~er+log(debt)+log(gdp)+log(pop)+bailout|as.factor(year)+as.factor(country),\n",
    "             data=health) #budget setting\n",
    "hosexp_er <- felm(log(hospital_exp)~er+log(debt)+log(gdp)+log(pop)+bailout|as.factor(year)+as.factor(country),\n",
    "             data=health)\n",
    "care_er <- felm(log(care)~er+log(debt)+log(gdp)+log(pop80)+bailout|as.factor(year)+as.factor(country),\n",
    "             data=health)\n",
    "prev_er <- felm(log(prev)~er+log(debt)+log(gdp)+log(pop)+bailout+gov_left|as.factor(year)+as.factor(country),\n",
    "             data=health)\n",
    "pharm_er <- felm(log(pharm)~er+log(debt)+log(gdp)+log(pop)+bailout|as.factor(year)+as.factor(country),\n",
    "             data=health)\n",
    "mod_stargazer(shift_er, cure_er, hosexp_er, care_er, prev_er, pharm_er,\n",
    "              type=\"html\",\n",
    "              title=\"Table 1 - Budget Shifting and Budget Setting\",\n",
    "              dep.var.labels=\"Dependent variable:\",\n",
    "              dep.var.labels.include = FALSE,\n",
    "              column.labels = c(\"OOP\", \"Curative\", \"Hospital expense\", \"Long term care\",\n",
    "                            \"Preventative\", \"Pharmaceutical\"),\n",
    "              covariate.labels=c(\"ER\", \"log(Debt)\", \"log(GDP)\", \"log(Population)\", \"log(Pop 80+)\",\n",
    "                                 \"IMF Bailout\", \"Left govt\"),\n",
    "              omit.stat = c(\"rsq\", \"ser\"),\n",
    "              notes = \"All dependent variables are in natural log\",\n",
    "              out=\"output/rr/table1-budget.html\")"
   ]
  },
  {
   "cell_type": "markdown",
   "metadata": {},
   "source": [
    "### direct and indirect control of supply\n",
    "##### log(beds) = FR/ER/BBR + log(gdp) + log(debt) + log(pop80) + bailout + fe(year) + fe(country)\n",
    "##### log(capital) = FR/ER/BBR + log(gdp) + log(debt) + log(pop) + bailout + fe(year) + fe(country)"
   ]
  },
  {
   "cell_type": "code",
   "execution_count": 46,
   "metadata": {},
   "outputs": [],
   "source": [
    "beds_er <- felm(log(beds)~er+log(debt)+log(gdp)+log(pop80)+bailout|as.factor(year)+as.factor(country),\n",
    "             data=health)\n",
    "cap_er <- felm(log(cap)~er+log(debt)+log(gdp)+log(pop)+bailout|as.factor(year)+as.factor(country),\n",
    "             data=health)\n",
    "mod_stargazer(beds_er, cap_er,\n",
    "              type=\"html\",\n",
    "              title=\"Table 2 - Direct and Indirect Control of Supply\",\n",
    "              dep.var.labels=\"Dependent variable:\",\n",
    "              dep.var.labels.include = FALSE,\n",
    "              column.labels = c(\"Hospital beds\", \"Capital\"),\n",
    "              covariate.labels=c(\"ER\", \"log(Debt)\", \"log(GDP)\", \"log(Pop 80+)\", \"log(Population)\", \n",
    "                                 \"IMF Bailout\"),\n",
    "              omit.stat = c(\"rsq\", \"ser\"),\n",
    "              notes = \"All dependent variables are in natural log\",\n",
    "              out=\"output/rr/table2-supply_control.html\")"
   ]
  },
  {
   "cell_type": "markdown",
   "metadata": {},
   "source": [
    "### time lag, t-1 and t-2"
   ]
  },
  {
   "cell_type": "code",
   "execution_count": 48,
   "metadata": {},
   "outputs": [],
   "source": [
    "shift_er1 <- felm(log(oop)~er1+log(debt)+log(gdp)+log(pop)+bailout|as.factor(year)+as.factor(country),\n",
    "             data=health)\n",
    "cure_er1 <- felm(log(cure)~er1+log(debt)+log(gdp)+log(pop)+bailout|as.factor(year)+as.factor(country),\n",
    "             data=health)\n",
    "hosexp_er1 <- felm(log(hospital_exp)~er1+log(debt)+log(gdp)+log(pop)+bailout|as.factor(year)+as.factor(country),\n",
    "             data=health)\n",
    "care_er1 <- felm(log(care)~er1+log(debt)+log(gdp)+log(pop80)+bailout|as.factor(year)+as.factor(country),\n",
    "             data=health)\n",
    "prev_er1 <- felm(log(prev)~er1+log(debt)+log(gdp)+log(pop)+bailout+gov_left|as.factor(year)+as.factor(country),\n",
    "             data=health)\n",
    "pharm_er1 <- felm(log(pharm)~er1+log(debt)+log(gdp)+log(pop)+bailout|as.factor(year)+as.factor(country),\n",
    "             data=health)\n",
    "beds_er1 <- felm(log(beds)~er1+log(debt)+log(gdp)+log(pop80)+bailout|as.factor(year)+as.factor(country),\n",
    "             data=health)\n",
    "cap_er1 <- felm(log(cap)~er1+log(debt)+log(gdp)+log(pop)+bailout|as.factor(year)+as.factor(country),\n",
    "             data=health)\n",
    "mod_stargazer(shift_er1, cure_er1, hosexp_er1, care_er1, prev_er1, pharm_er1, beds_er1, cap_er1,\n",
    "              type=\"html\",\n",
    "              title=\"Table 3 - Time Lag One Year\",\n",
    "              dep.var.labels=\"Dependent variable:\",\n",
    "              dep.var.labels.include = FALSE,\n",
    "              column.labels = c(\"OOP\", \"Curative\", \"Hospital expense\", \"Long term care\",\n",
    "                            \"Preventative\", \"Pharmaceutical\", \"Beds\", \"Capital\"),\n",
    "              covariate.labels=c(\"ER\", \"log(Debt)\", \"log(GDP)\", \"log(Population)\", \"log(Pop 80+)\",  \n",
    "                                 \"IMF Bailout\", \"Left govt\"),\n",
    "              omit.stat = c(\"rsq\", \"ser\"),\n",
    "              notes = \"All dependent variables are in natural log\",\n",
    "              out=\"output/rr/table3-time_lag1.html\")"
   ]
  },
  {
   "cell_type": "code",
   "execution_count": 49,
   "metadata": {},
   "outputs": [],
   "source": [
    "shift_er2 <- felm(log(oop)~er2+log(debt)+log(gdp)+log(pop)+bailout|as.factor(year)+as.factor(country),\n",
    "             data=health)\n",
    "cure_er2 <- felm(log(cure)~er2+log(debt)+log(gdp)+log(pop)+bailout|as.factor(year)+as.factor(country),\n",
    "             data=health)\n",
    "hosexp_er2 <- felm(log(hospital_exp)~er2+log(debt)+log(gdp)+log(pop)+bailout|as.factor(year)+as.factor(country),\n",
    "             data=health)\n",
    "care_er2 <- felm(log(care)~er2+log(debt)+log(gdp)+log(pop80)+bailout|as.factor(year)+as.factor(country),\n",
    "             data=health)\n",
    "prev_er2 <- felm(log(prev)~er2+log(debt)+log(gdp)+log(pop)+bailout+gov_left|as.factor(year)+as.factor(country),\n",
    "             data=health)\n",
    "pharm_er2 <- felm(log(pharm)~er2+log(debt)+log(gdp)+log(pop)+bailout|as.factor(year)+as.factor(country),\n",
    "             data=health)\n",
    "beds_er2 <- felm(log(beds)~er2+log(debt)+log(gdp)+log(pop80)+bailout|as.factor(year)+as.factor(country),\n",
    "             data=health)\n",
    "cap_er2 <- felm(log(cap)~er2+log(debt)+log(gdp)+log(pop)+bailout|as.factor(year)+as.factor(country),\n",
    "             data=health)\n",
    "mod_stargazer(shift_er2, cure_er2, hosexp_er2, care_er2, prev_er2, pharm_er2, beds_er2, cap_er2, \n",
    "          type=\"html\", \n",
    "          title=\"Table 4 - Time Lag Two Years\",\n",
    "          dep.var.labels=\"Dependent variable:\",\n",
    "          dep.var.labels.include = FALSE,\n",
    "          column.labels = c(\"OOP\", \"Curative\", \"Hospital expense\", \"Long term care\",\n",
    "                            \"Preventative\", \"Pharmaceutical\", \"Beds\", \"Capital\"),\n",
    "          covariate.labels=c(\"ER\", \"log(Debt)\", \"log(GDP)\", \"log(Population)\", \"log(Pop 80+)\",\n",
    "                             \"IMF Bailout\", \"Left govt\"),\n",
    "          omit.stat = c(\"rsq\", \"ser\"),\n",
    "          notes = \"All dependent variables are in natural log\",\n",
    "          out=\"output/rr/table4-time_lag2.html\")"
   ]
  },
  {
   "cell_type": "markdown",
   "metadata": {},
   "source": [
    "## 3. robustness check"
   ]
  },
  {
   "cell_type": "markdown",
   "metadata": {},
   "source": [
    "#### using FR as main exposure"
   ]
  },
  {
   "cell_type": "code",
   "execution_count": 55,
   "metadata": {},
   "outputs": [],
   "source": [
    "shift_fr <- felm(log(oop)~fr+log(debt)+log(gdp)+log(pop)+bailout|as.factor(year)+as.factor(country),\n",
    "             data=health)\n",
    "cure_fr <- felm(log(cure)~fr+log(debt)+log(gdp)+log(pop)+bailout|as.factor(year)+as.factor(country),\n",
    "             data=health)\n",
    "hosexp_fr <- felm(log(hospital_exp)~fr+log(debt)+log(gdp)+log(pop)+bailout|as.factor(year)+as.factor(country),\n",
    "             data=health)\n",
    "care_fr <- felm(log(care)~fr+log(debt)+log(gdp)+log(pop80)+bailout|as.factor(year)+as.factor(country),\n",
    "             data=health)\n",
    "prev_fr <- felm(log(prev)~fr+log(debt)+log(gdp)+log(pop)+bailout+gov_left|as.factor(year)+as.factor(country),\n",
    "             data=health)\n",
    "pharm_fr <- felm(log(pharm)~fr+log(debt)+log(gdp)+log(pop)+bailout|as.factor(year)+as.factor(country),\n",
    "             data=health)\n",
    "beds_fr <- felm(log(beds)~fr+log(debt)+log(gdp)+log(pop80)+bailout|as.factor(year)+as.factor(country),\n",
    "             data=health)\n",
    "cap_fr <- felm(log(cap)~fr+log(debt)+log(gdp)+log(pop)+bailout|as.factor(year)+as.factor(country),\n",
    "             data=health)\n",
    "mod_stargazer(shift_fr, cure_fr, hosexp_fr, care_fr, prev_fr, pharm_fr, beds_fr, cap_fr,\n",
    "              type=\"html\",\n",
    "              title=\"Table 5 - Robustness Check, FR\",\n",
    "              dep.var.labels=\"Dependent variable:\",\n",
    "              dep.var.labels.include = FALSE,\n",
    "              column.labels = c(\"OOP\", \"Curative\", \"Hospital expense\", \"Long term care\",\n",
    "                            \"Preventative\", \"Pharmaceutical\", \"Beds\", \"Capital\"),\n",
    "              covariate.labels=c(\"ER\", \"log(Debt)\", \"log(GDP)\", \"log(Population)\", \"log(Pop 80+)\",\n",
    "                                 \"IMF Bailout\", \"Left govt\"),\n",
    "              omit.stat = c(\"rsq\", \"ser\"),\n",
    "              notes = \"All dependent variables are in natural log\",\n",
    "              out=\"output/rr/table5-robustness-fr.html\")"
   ]
  },
  {
   "cell_type": "markdown",
   "metadata": {},
   "source": [
    "#### using BBR as main exposure"
   ]
  },
  {
   "cell_type": "code",
   "execution_count": 54,
   "metadata": {
    "scrolled": true
   },
   "outputs": [],
   "source": [
    "shift_bbr <- felm(log(oop)~bbr+log(debt)+log(gdp)+log(pop)+bailout|as.factor(year)+as.factor(country),\n",
    "             data=health)\n",
    "cure_bbr <- felm(log(cure)~bbr+log(debt)+log(gdp)+log(pop)+bailout|as.factor(year)+as.factor(country),\n",
    "             data=health)\n",
    "hosexp_bbr <- felm(log(hospital_exp)~bbr+log(debt)+log(gdp)+log(pop)+bailout|as.factor(year)+as.factor(country),\n",
    "             data=health)\n",
    "care_bbr <- felm(log(care)~bbr+log(debt)+log(gdp)+log(pop80)+bailout|as.factor(year)+as.factor(country),\n",
    "             data=health)\n",
    "prev_bbr <- felm(log(prev)~bbr+log(debt)+log(gdp)+log(pop)+bailout+gov_left|as.factor(year)+as.factor(country),\n",
    "             data=health)\n",
    "pharm_bbr <- felm(log(pharm)~bbr+log(debt)+log(gdp)+log(pop)+bailout|as.factor(year)+as.factor(country),\n",
    "             data=health)\n",
    "beds_bbr <- felm(log(beds)~bbr+log(debt)+log(gdp)+log(pop80)+bailout|as.factor(year)+as.factor(country),\n",
    "             data=health)\n",
    "cap_bbr <- felm(log(cap)~bbr+log(debt)+log(gdp)+log(pop)+bailout|as.factor(year)+as.factor(country),\n",
    "             data=health)\n",
    "mod_stargazer(shift_bbr, cure_bbr, hosexp_bbr, care_bbr, prev_bbr, pharm_bbr, beds_bbr, cap_bbr,\n",
    "              type=\"html\",\n",
    "              title=\"Table 6 - Robustness Check, BBR\",\n",
    "              dep.var.labels=\"Dependent variable:\",\n",
    "              dep.var.labels.include = FALSE,\n",
    "              column.labels = c(\"OOP\", \"Curative\", \"Hospital expense\", \"Long term care\",\n",
    "                            \"Preventative\", \"Pharmaceutical\", \"Beds\", \"Capital\"),\n",
    "              covariate.labels=c(\"ER\", \"log(Debt)\", \"log(GDP)\", \"log(Population)\", \"log(Pop 80+)\",\n",
    "                                 \"IMF Bailout\", \"Left govt\"),\n",
    "              omit.stat = c(\"rsq\", \"ser\"),\n",
    "              notes = \"All dependent variables are in natural log\",\n",
    "              out=\"output/rr/table6-robustness-bbr.html\")"
   ]
  },
  {
   "cell_type": "markdown",
   "metadata": {},
   "source": [
    "#### Time lagged measurements: FR t-1 and t-2"
   ]
  },
  {
   "cell_type": "code",
   "execution_count": 58,
   "metadata": {},
   "outputs": [],
   "source": [
    "shift_fr1 <- felm(log(oop)~fr1+log(debt)+log(gdp)+log(pop)+bailout|as.factor(year)+as.factor(country),\n",
    "             data=health)\n",
    "cure_fr1 <- felm(log(cure)~fr1+log(debt)+log(gdp)+log(pop)+bailout|as.factor(year)+as.factor(country),\n",
    "             data=health)\n",
    "hosexp_fr1 <- felm(log(hospital_exp)~fr1+log(debt)+log(gdp)+log(pop)+bailout|as.factor(year)+as.factor(country),\n",
    "             data=health)\n",
    "care_fr1 <- felm(log(care)~fr1+log(debt)+log(gdp)+log(pop80)+bailout|as.factor(year)+as.factor(country),\n",
    "             data=health)\n",
    "prev_fr1 <- felm(log(prev)~fr1+log(debt)+log(gdp)+log(pop)+bailout+gov_left|as.factor(year)+as.factor(country),\n",
    "             data=health)\n",
    "pharm_fr1 <- felm(log(pharm)~fr1+log(debt)+log(gdp)+log(pop)+bailout|as.factor(year)+as.factor(country),\n",
    "             data=health)\n",
    "beds_fr1 <- felm(log(beds)~fr1+log(debt)+log(gdp)+log(pop80)+bailout|as.factor(year)+as.factor(country),\n",
    "             data=health)\n",
    "cap_fr1 <- felm(log(cap)~fr1+log(debt)+log(gdp)+log(pop)+bailout|as.factor(year)+as.factor(country),\n",
    "             data=health)\n",
    "mod_stargazer(shift_fr1, cure_fr1, hosexp_fr1, care_fr1, prev_fr1, pharm_fr1, beds_fr1, cap_fr1,\n",
    "          type=\"html\", \n",
    "          title=\"Table 7 - Robustness Check, FR Lag One Year\",\n",
    "          dep.var.labels=\"Dependent variable:\",\n",
    "          dep.var.labels.include = FALSE,\n",
    "          column.labels = c(\"OOP\", \"Curative\", \"Hospital expense\", \"Long term care\",\n",
    "                            \"Preventative\", \"Pharmaceutical\", \"Beds\", \"Capital\"),\n",
    "          covariate.labels=c(\"ER\", \"log(Debt)\", \"log(GDP)\", \"log(Population)\", \"log(Pop 80+)\",\n",
    "                             \"IMF Bailout\", \"Left govt\"),\n",
    "          omit.stat = c(\"rsq\", \"ser\"),\n",
    "          notes = \"All dependent variables are in natural log\",\n",
    "          out=\"output/rr/table7-robustness-fr1.html\")"
   ]
  },
  {
   "cell_type": "code",
   "execution_count": 59,
   "metadata": {},
   "outputs": [],
   "source": [
    "shift_fr2 <- felm(log(oop)~fr2+log(debt)+log(gdp)+log(pop)+bailout|as.factor(year)+as.factor(country),\n",
    "             data=health)\n",
    "cure_fr2 <- felm(log(cure)~fr2+log(debt)+log(gdp)+log(pop)+bailout|as.factor(year)+as.factor(country),\n",
    "             data=health)\n",
    "care_fr2 <- felm(log(care)~fr2+log(debt)+log(gdp)+log(pop80)+bailout|as.factor(year)+as.factor(country),\n",
    "             data=health)\n",
    "prev_fr2 <- felm(log(prev)~fr2+log(debt)+log(gdp)+log(pop)+bailout+gov_left|as.factor(year)+as.factor(country),\n",
    "             data=health)\n",
    "pharm_fr2 <- felm(log(pharm)~fr2+log(debt)+log(gdp)+log(pop)+bailout|as.factor(year)+as.factor(country),\n",
    "             data=health)\n",
    "beds_fr2 <- felm(log(beds)~fr2+log(debt)+log(gdp)+log(pop80)+bailout|as.factor(year)+as.factor(country),\n",
    "             data=health)\n",
    "cap_fr2 <- felm(log(cap)~fr2+log(debt)+log(gdp)+log(pop)+bailout|as.factor(year)+as.factor(country),\n",
    "             data=health)\n",
    "hosexp_fr2 <- felm(log(hospital_exp)~fr2+log(debt)+log(gdp)+log(pop)+bailout|as.factor(year)+as.factor(country),\n",
    "             data=health)\n",
    "mod_stargazer(shift_fr2, cure_fr2, hosexp_fr2, care_fr2, prev_fr2, pharm_fr2, beds_fr2, cap_fr2,\n",
    "          type=\"html\", \n",
    "          title=\"Table 8 - Robustness Check, FR Lag Two Years\",\n",
    "          dep.var.labels=\"Dependent variable:\",\n",
    "          dep.var.labels.include = FALSE,\n",
    "          column.labels = c(\"OOP\", \"Curative\", \"Hospital expense\", \"Long term care\",\n",
    "                            \"Preventative\", \"Pharmaceutical\", \"Beds\", \"Capital\"),\n",
    "          covariate.labels=c(\"ER\", \"log(Debt)\", \"log(GDP)\", \"log(Population)\", \"log(Pop 80+)\",\n",
    "                             \"IMF Bailout\", \"Left govt\"),\n",
    "          omit.stat = c(\"rsq\", \"ser\"),\n",
    "          notes = \"All dependent variables are in natural log\",\n",
    "          out=\"output/rr/table8-robustness-fr2.html\")"
   ]
  },
  {
   "cell_type": "code",
   "execution_count": 62,
   "metadata": {},
   "outputs": [
    {
     "data": {
      "text/html": [
       "'health'"
      ],
      "text/latex": [
       "'health'"
      ],
      "text/markdown": [
       "'health'"
      ],
      "text/plain": [
       "[1] \"health\""
      ]
     },
     "metadata": {},
     "output_type": "display_data"
    }
   ],
   "source": [
    "ls()"
   ]
  },
  {
   "cell_type": "code",
   "execution_count": 61,
   "metadata": {},
   "outputs": [],
   "source": [
    "rm(list=ls(pattern=\"\\\\_\"))"
   ]
  },
  {
   "cell_type": "markdown",
   "metadata": {},
   "source": [
    "## 3. R&R"
   ]
  },
  {
   "cell_type": "markdown",
   "metadata": {},
   "source": [
    "### run radomization simulatioin"
   ]
  },
  {
   "cell_type": "markdown",
   "metadata": {},
   "source": [
    "### summary statistics"
   ]
  },
  {
   "cell_type": "code",
   "execution_count": null,
   "metadata": {},
   "outputs": [],
   "source": []
  },
  {
   "cell_type": "code",
   "execution_count": null,
   "metadata": {},
   "outputs": [],
   "source": []
  },
  {
   "cell_type": "code",
   "execution_count": null,
   "metadata": {},
   "outputs": [],
   "source": []
  },
  {
   "cell_type": "code",
   "execution_count": null,
   "metadata": {},
   "outputs": [],
   "source": []
  }
 ],
 "metadata": {
  "kernelspec": {
   "display_name": "R",
   "language": "R",
   "name": "ir"
  },
  "language_info": {
   "codemirror_mode": "r",
   "file_extension": ".r",
   "mimetype": "text/x-r-source",
   "name": "R",
   "pygments_lexer": "r",
   "version": "3.6.0"
  }
 },
 "nbformat": 4,
 "nbformat_minor": 2
}
