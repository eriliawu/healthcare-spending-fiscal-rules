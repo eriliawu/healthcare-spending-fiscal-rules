{
 "cells": [
  {
   "cell_type": "markdown",
   "metadata": {},
   "source": [
    "# Healthcare spending, part 2"
   ]
  },
  {
   "cell_type": "code",
   "execution_count": 48,
   "metadata": {},
   "outputs": [],
   "source": [
    "#install.packages(\"lfe\")\n",
    "#install.packages(\"stargazer\")\n",
    "suppressWarnings(library(lfe))\n",
    "suppressWarnings(library(stargazer))"
   ]
  },
  {
   "cell_type": "markdown",
   "metadata": {},
   "source": [
    "## 1. import data and cleanup"
   ]
  },
  {
   "cell_type": "code",
   "execution_count": 25,
   "metadata": {
    "scrolled": true
   },
   "outputs": [
    {
     "data": {
      "text/html": [
       "'C:/Users/wue04/Box Sync/healthcare-spending-fiscal-rules/part2-cost-shifting'"
      ],
      "text/latex": [
       "'C:/Users/wue04/Box Sync/healthcare-spending-fiscal-rules/part2-cost-shifting'"
      ],
      "text/markdown": [
       "'C:/Users/wue04/Box Sync/healthcare-spending-fiscal-rules/part2-cost-shifting'"
      ],
      "text/plain": [
       "[1] \"C:/Users/wue04/Box Sync/healthcare-spending-fiscal-rules/part2-cost-shifting\""
      ]
     },
     "metadata": {},
     "output_type": "display_data"
    },
    {
     "data": {
      "text/html": [
       "<ol class=list-inline>\n",
       "\t<li>10</li>\n",
       "\t<li>19</li>\n",
       "</ol>\n"
      ],
      "text/latex": [
       "\\begin{enumerate*}\n",
       "\\item 10\n",
       "\\item 19\n",
       "\\end{enumerate*}\n"
      ],
      "text/markdown": [
       "1. 10\n",
       "2. 19\n",
       "\n",
       "\n"
      ],
      "text/plain": [
       "[1] 10 19"
      ]
     },
     "metadata": {},
     "output_type": "display_data"
    }
   ],
   "source": [
    "getwd()\n",
    "sample <- read.csv(\"data/health-spending.csv\", nrow=10)\n",
    "head(sample)\n",
    "sapply(sample, class)\n",
    "dim(sample)"
   ]
  },
  {
   "cell_type": "code",
   "execution_count": 39,
   "metadata": {
    "scrolled": true
   },
   "outputs": [
    {
     "data": {
      "text/html": [
       "<table>\n",
       "<thead><tr><th scope=col>country</th><th scope=col>year</th><th scope=col>bailout</th><th scope=col>gdp</th><th scope=col>pop</th><th scope=col>debt</th><th scope=col>pop80</th><th scope=col>gov_left</th><th scope=col>fr</th><th scope=col>er</th><th scope=col>bbr</th><th scope=col>oop</th><th scope=col>cure</th><th scope=col>care</th><th scope=col>prev</th><th scope=col>pharm</th><th scope=col>beds</th><th scope=col>beds_ltc</th><th scope=col>cap</th></tr></thead>\n",
       "<tbody>\n",
       "\t<tr><td>Australia  </td><td>1985       </td><td>0          </td><td>4.03e+11   </td><td>15788310   </td><td>         NA</td><td>300.0      </td><td>100        </td><td>1          </td><td>1          </td><td>0          </td><td> 7255.928  </td><td>14824.11   </td><td>NA         </td><td>254.089    </td><td>1157.520   </td><td>98534      </td><td>NA         </td><td>2432.782   </td></tr>\n",
       "\t<tr><td>Australia  </td><td>1986       </td><td>0          </td><td>4.11e+11   </td><td>16018350   </td><td>         NA</td><td>314.3      </td><td>100        </td><td>1          </td><td>1          </td><td>0          </td><td> 8023.363  </td><td>15381.10   </td><td>NA         </td><td>284.003    </td><td>1296.217   </td><td>   NA      </td><td>NA         </td><td>2580.394   </td></tr>\n",
       "\t<tr><td>Australia  </td><td>1987       </td><td>0          </td><td>4.33e+11   </td><td>16263870   </td><td>         NA</td><td>327.6      </td><td>100        </td><td>1          </td><td>1          </td><td>0          </td><td> 8325.094  </td><td>15663.99   </td><td>NA         </td><td>320.267    </td><td>1476.931   </td><td>94653      </td><td>NA         </td><td>2718.716   </td></tr>\n",
       "\t<tr><td>Australia  </td><td>1988       </td><td>0          </td><td>4.53e+11   </td><td>16532160   </td><td>         NA</td><td>340.5      </td><td>100        </td><td>1          </td><td>1          </td><td>0          </td><td> 9123.358  </td><td>15856.88   </td><td>NA         </td><td> 89.551    </td><td>1462.585   </td><td>   NA      </td><td>NA         </td><td>2649.690   </td></tr>\n",
       "\t<tr><td>Australia  </td><td>1989       </td><td>0          </td><td>4.72e+11   </td><td>16814420   </td><td>80455919201</td><td>354.1      </td><td>100        </td><td>0          </td><td>0          </td><td>0          </td><td> 9763.080  </td><td>16179.57   </td><td>NA         </td><td>118.617    </td><td>1580.287   </td><td>91312      </td><td>NA         </td><td>2663.733   </td></tr>\n",
       "\t<tr><td>Australia  </td><td>1990       </td><td>0          </td><td>4.78e+11   </td><td>17065130   </td><td>78639034361</td><td>367.3      </td><td>100        </td><td>0          </td><td>0          </td><td>0          </td><td>10681.239  </td><td>16821.24   </td><td>NA         </td><td>  4.270    </td><td>1511.820   </td><td>   NA      </td><td>NA         </td><td>2573.098   </td></tr>\n",
       "</tbody>\n",
       "</table>\n"
      ],
      "text/latex": [
       "\\begin{tabular}{r|lllllllllllllllllll}\n",
       " country & year & bailout & gdp & pop & debt & pop80 & gov\\_left & fr & er & bbr & oop & cure & care & prev & pharm & beds & beds\\_ltc & cap\\\\\n",
       "\\hline\n",
       "\t Australia   & 1985        & 0           & 4.03e+11    & 15788310    &          NA & 300.0       & 100         & 1           & 1           & 0           &  7255.928   & 14824.11    & NA          & 254.089     & 1157.520    & 98534       & NA          & 2432.782   \\\\\n",
       "\t Australia   & 1986        & 0           & 4.11e+11    & 16018350    &          NA & 314.3       & 100         & 1           & 1           & 0           &  8023.363   & 15381.10    & NA          & 284.003     & 1296.217    &    NA       & NA          & 2580.394   \\\\\n",
       "\t Australia   & 1987        & 0           & 4.33e+11    & 16263870    &          NA & 327.6       & 100         & 1           & 1           & 0           &  8325.094   & 15663.99    & NA          & 320.267     & 1476.931    & 94653       & NA          & 2718.716   \\\\\n",
       "\t Australia   & 1988        & 0           & 4.53e+11    & 16532160    &          NA & 340.5       & 100         & 1           & 1           & 0           &  9123.358   & 15856.88    & NA          &  89.551     & 1462.585    &    NA       & NA          & 2649.690   \\\\\n",
       "\t Australia   & 1989        & 0           & 4.72e+11    & 16814420    & 80455919201 & 354.1       & 100         & 0           & 0           & 0           &  9763.080   & 16179.57    & NA          & 118.617     & 1580.287    & 91312       & NA          & 2663.733   \\\\\n",
       "\t Australia   & 1990        & 0           & 4.78e+11    & 17065130    & 78639034361 & 367.3       & 100         & 0           & 0           & 0           & 10681.239   & 16821.24    & NA          &   4.270     & 1511.820    &    NA       & NA          & 2573.098   \\\\\n",
       "\\end{tabular}\n"
      ],
      "text/markdown": [
       "\n",
       "| country | year | bailout | gdp | pop | debt | pop80 | gov_left | fr | er | bbr | oop | cure | care | prev | pharm | beds | beds_ltc | cap |\n",
       "|---|---|---|---|---|---|---|---|---|---|---|---|---|---|---|---|---|---|---|\n",
       "| Australia   | 1985        | 0           | 4.03e+11    | 15788310    |          NA | 300.0       | 100         | 1           | 1           | 0           |  7255.928   | 14824.11    | NA          | 254.089     | 1157.520    | 98534       | NA          | 2432.782    |\n",
       "| Australia   | 1986        | 0           | 4.11e+11    | 16018350    |          NA | 314.3       | 100         | 1           | 1           | 0           |  8023.363   | 15381.10    | NA          | 284.003     | 1296.217    |    NA       | NA          | 2580.394    |\n",
       "| Australia   | 1987        | 0           | 4.33e+11    | 16263870    |          NA | 327.6       | 100         | 1           | 1           | 0           |  8325.094   | 15663.99    | NA          | 320.267     | 1476.931    | 94653       | NA          | 2718.716    |\n",
       "| Australia   | 1988        | 0           | 4.53e+11    | 16532160    |          NA | 340.5       | 100         | 1           | 1           | 0           |  9123.358   | 15856.88    | NA          |  89.551     | 1462.585    |    NA       | NA          | 2649.690    |\n",
       "| Australia   | 1989        | 0           | 4.72e+11    | 16814420    | 80455919201 | 354.1       | 100         | 0           | 0           | 0           |  9763.080   | 16179.57    | NA          | 118.617     | 1580.287    | 91312       | NA          | 2663.733    |\n",
       "| Australia   | 1990        | 0           | 4.78e+11    | 17065130    | 78639034361 | 367.3       | 100         | 0           | 0           | 0           | 10681.239   | 16821.24    | NA          |   4.270     | 1511.820    |    NA       | NA          | 2573.098    |\n",
       "\n"
      ],
      "text/plain": [
       "  country   year bailout gdp      pop      debt        pop80 gov_left fr er bbr\n",
       "1 Australia 1985 0       4.03e+11 15788310          NA 300.0 100      1  1  0  \n",
       "2 Australia 1986 0       4.11e+11 16018350          NA 314.3 100      1  1  0  \n",
       "3 Australia 1987 0       4.33e+11 16263870          NA 327.6 100      1  1  0  \n",
       "4 Australia 1988 0       4.53e+11 16532160          NA 340.5 100      1  1  0  \n",
       "5 Australia 1989 0       4.72e+11 16814420 80455919201 354.1 100      0  0  0  \n",
       "6 Australia 1990 0       4.78e+11 17065130 78639034361 367.3 100      0  0  0  \n",
       "  oop       cure     care prev    pharm    beds  beds_ltc cap     \n",
       "1  7255.928 14824.11 NA   254.089 1157.520 98534 NA       2432.782\n",
       "2  8023.363 15381.10 NA   284.003 1296.217    NA NA       2580.394\n",
       "3  8325.094 15663.99 NA   320.267 1476.931 94653 NA       2718.716\n",
       "4  9123.358 15856.88 NA    89.551 1462.585    NA NA       2649.690\n",
       "5  9763.080 16179.57 NA   118.617 1580.287 91312 NA       2663.733\n",
       "6 10681.239 16821.24 NA     4.270 1511.820    NA NA       2573.098"
      ]
     },
     "metadata": {},
     "output_type": "display_data"
    }
   ],
   "source": [
    "health <- read.csv(\"data/health-spending.csv\",\n",
    "                  col.names=c(\"country\", \"year\", \"bailout\", \"gdp\", \"pop\", \"debt\", \"pop80\",\n",
    "                             \"gov_left\", \"fr\", \"er\", \"bbr\", \"oop\", \"cure\",\n",
    "                             \"care\", \"prev\", \"pharm\", \"beds\", \"beds_ltc\", \"cap\"))\n",
    "head(health)\n",
    "health$country <- as.character(health$country)\n",
    "sapply(health, class)"
   ]
  },
  {
   "cell_type": "code",
   "execution_count": 33,
   "metadata": {},
   "outputs": [
    {
     "data": {
      "text/plain": [
       "\n",
       "  0   1 \n",
       "689 271 "
      ]
     },
     "metadata": {},
     "output_type": "display_data"
    }
   ],
   "source": [
    "# data characteristics\n",
    "table(health$er)\n",
    "table(health$bbr)"
   ]
  },
  {
   "cell_type": "markdown",
   "metadata": {},
   "source": [
    "## 2. regressions\n",
    "### budget shifting\n",
    "log(out_of_pocket_exp) = FR/ER/BBR + log(gdp) + log(debt) + log(pop) + bailout + fe(year) + fe(country)"
   ]
  },
  {
   "cell_type": "code",
   "execution_count": 73,
   "metadata": {
    "scrolled": true
   },
   "outputs": [
    {
     "name": "stdout",
     "output_type": "stream",
     "text": [
      "\n",
      "<table style=\"text-align:center\"><caption><strong>Table 1 - Budget Shifting</strong></caption>\n",
      "<tr><td colspan=\"4\" style=\"border-bottom: 1px solid black\"></td></tr><tr><td style=\"text-align:left\"></td><td colspan=\"3\"><em>Dependent variable:</em></td></tr>\n",
      "<tr><td></td><td colspan=\"3\" style=\"border-bottom: 1px solid black\"></td></tr>\n",
      "<tr><td style=\"text-align:left\"></td><td colspan=\"3\">log(out of pocket expense)</td></tr>\n",
      "<tr><td style=\"text-align:left\"></td><td>(1)</td><td>(2)</td><td>(3)</td></tr>\n",
      "<tr><td colspan=\"4\" style=\"border-bottom: 1px solid black\"></td></tr><tr><td style=\"text-align:left\">FR</td><td>0.095<sup>***</sup></td><td></td><td></td></tr>\n",
      "<tr><td style=\"text-align:left\"></td><td>(0.028)</td><td></td><td></td></tr>\n",
      "<tr><td style=\"text-align:left\"></td><td></td><td></td><td></td></tr>\n",
      "<tr><td style=\"text-align:left\">ER</td><td></td><td>-0.113<sup>***</sup></td><td></td></tr>\n",
      "<tr><td style=\"text-align:left\"></td><td></td><td>(0.026)</td><td></td></tr>\n",
      "<tr><td style=\"text-align:left\"></td><td></td><td></td><td></td></tr>\n",
      "<tr><td style=\"text-align:left\">BBR</td><td></td><td></td><td>-0.020</td></tr>\n",
      "<tr><td style=\"text-align:left\"></td><td></td><td></td><td>(0.028)</td></tr>\n",
      "<tr><td style=\"text-align:left\"></td><td></td><td></td><td></td></tr>\n",
      "<tr><td style=\"text-align:left\">log(Debt)</td><td>0.009</td><td>0.008</td><td>0.001</td></tr>\n",
      "<tr><td style=\"text-align:left\"></td><td>(0.030)</td><td>(0.029)</td><td>(0.030)</td></tr>\n",
      "<tr><td style=\"text-align:left\"></td><td></td><td></td><td></td></tr>\n",
      "<tr><td style=\"text-align:left\">log(GDP)</td><td>1.706<sup>***</sup></td><td>1.877<sup>***</sup></td><td>1.876<sup>***</sup></td></tr>\n",
      "<tr><td style=\"text-align:left\"></td><td>(0.128)</td><td>(0.119)</td><td>(0.124)</td></tr>\n",
      "<tr><td style=\"text-align:left\"></td><td></td><td></td><td></td></tr>\n",
      "<tr><td style=\"text-align:left\">log(Population)</td><td>-0.534<sup>**</sup></td><td>-0.727<sup>***</sup></td><td>-0.732<sup>***</sup></td></tr>\n",
      "<tr><td style=\"text-align:left\"></td><td>(0.270)</td><td>(0.262)</td><td>(0.265)</td></tr>\n",
      "<tr><td style=\"text-align:left\"></td><td></td><td></td><td></td></tr>\n",
      "<tr><td style=\"text-align:left\">IMF Bailout</td><td>0.007</td><td>0.013</td><td>0.010</td></tr>\n",
      "<tr><td style=\"text-align:left\"></td><td>(0.049)</td><td>(0.049)</td><td>(0.050)</td></tr>\n",
      "<tr><td style=\"text-align:left\"></td><td></td><td></td><td></td></tr>\n",
      "<tr><td colspan=\"4\" style=\"border-bottom: 1px solid black\"></td></tr><tr><td style=\"text-align:left\">Observations</td><td>714</td><td>714</td><td>714</td></tr>\n",
      "<tr><td style=\"text-align:left\">R<sup>2</sup></td><td>0.989</td><td>0.990</td><td>0.989</td></tr>\n",
      "<tr><td style=\"text-align:left\">Adjusted R<sup>2</sup></td><td>0.988</td><td>0.989</td><td>0.988</td></tr>\n",
      "<tr><td style=\"text-align:left\">Residual Std. Error (df = 648)</td><td>0.185</td><td>0.184</td><td>0.186</td></tr>\n",
      "<tr><td colspan=\"4\" style=\"border-bottom: 1px solid black\"></td></tr><tr><td style=\"text-align:left\"><em>Note:</em></td><td colspan=\"3\" style=\"text-align:right\"><sup>*</sup>p<0.1; <sup>**</sup>p<0.05; <sup>***</sup>p<0.01</td></tr>\n",
      "</table>\n"
     ]
    }
   ],
   "source": [
    "shift_fr <- felm(log(oop)~fr+log(debt)+log(gdp)+log(pop)+bailout|as.factor(year)+as.factor(country),\n",
    "             data=health)\n",
    "#summary(shift_fr)\n",
    "\n",
    "shift_er <- felm(log(oop)~er+log(debt)+log(gdp)+log(pop)+bailout|as.factor(year)+as.factor(country),\n",
    "             data=health)\n",
    "#summary(shift_er)\n",
    "\n",
    "shift_bbr <- felm(log(oop)~bbr+log(debt)+log(gdp)+log(pop)+bailout|as.factor(year)+as.factor(country),\n",
    "             data=health)\n",
    "#summary(shift_bbr)\n",
    "\n",
    "stargazer(shift_fr, shift_er, shift_bbr, type=\"html\",\n",
    "          title=\"Table 1 - Budget Shifting\",\n",
    "          dep.var.labels=\"log(out of pocket expense)\",\n",
    "          covariate.labels=c(\"FR\", \"ER\", \"BBR\", \"log(Debt)\", \"log(GDP)\", \n",
    "                             \"log(Population)\", \"IMF Bailout\"),\n",
    "          out=\"output/table1-budget_shift.html\")"
   ]
  },
  {
   "cell_type": "markdown",
   "metadata": {},
   "source": [
    "### budget setting\n",
    "log(cure) = FR/ER/BBR + log(gdp) + log(debt) + log(pop80) + bailout  + fe(year) + fe(country)"
   ]
  },
  {
   "cell_type": "code",
   "execution_count": 74,
   "metadata": {
    "scrolled": true
   },
   "outputs": [
    {
     "name": "stdout",
     "output_type": "stream",
     "text": [
      "\n",
      "<table style=\"text-align:center\"><caption><strong>Table 2 - Budget Setting - Curative Care</strong></caption>\n",
      "<tr><td colspan=\"4\" style=\"border-bottom: 1px solid black\"></td></tr><tr><td style=\"text-align:left\"></td><td colspan=\"3\"><em>Dependent variable:</em></td></tr>\n",
      "<tr><td></td><td colspan=\"3\" style=\"border-bottom: 1px solid black\"></td></tr>\n",
      "<tr><td style=\"text-align:left\"></td><td colspan=\"3\">log(Curative care)</td></tr>\n",
      "<tr><td style=\"text-align:left\"></td><td>(1)</td><td>(2)</td><td>(3)</td></tr>\n",
      "<tr><td colspan=\"4\" style=\"border-bottom: 1px solid black\"></td></tr><tr><td style=\"text-align:left\">FR</td><td>0.042<sup>***</sup></td><td></td><td></td></tr>\n",
      "<tr><td style=\"text-align:left\"></td><td>(0.015)</td><td></td><td></td></tr>\n",
      "<tr><td style=\"text-align:left\"></td><td></td><td></td><td></td></tr>\n",
      "<tr><td style=\"text-align:left\">ER</td><td></td><td>0.014</td><td></td></tr>\n",
      "<tr><td style=\"text-align:left\"></td><td></td><td>(0.014)</td><td></td></tr>\n",
      "<tr><td style=\"text-align:left\"></td><td></td><td></td><td></td></tr>\n",
      "<tr><td style=\"text-align:left\">BBR</td><td></td><td></td><td>0.037<sup>**</sup></td></tr>\n",
      "<tr><td style=\"text-align:left\"></td><td></td><td></td><td>(0.016)</td></tr>\n",
      "<tr><td style=\"text-align:left\"></td><td></td><td></td><td></td></tr>\n",
      "<tr><td style=\"text-align:left\">log(Debt)</td><td>-0.091<sup>***</sup></td><td>-0.090<sup>***</sup></td><td>-0.087<sup>***</sup></td></tr>\n",
      "<tr><td style=\"text-align:left\"></td><td>(0.019)</td><td>(0.019)</td><td>(0.019)</td></tr>\n",
      "<tr><td style=\"text-align:left\"></td><td></td><td></td><td></td></tr>\n",
      "<tr><td style=\"text-align:left\">log(GDP)</td><td>0.758<sup>***</sup></td><td>0.793<sup>***</sup></td><td>0.770<sup>***</sup></td></tr>\n",
      "<tr><td style=\"text-align:left\"></td><td>(0.072)</td><td>(0.071)</td><td>(0.072)</td></tr>\n",
      "<tr><td style=\"text-align:left\"></td><td></td><td></td><td></td></tr>\n",
      "<tr><td style=\"text-align:left\">log(Population 80 above)</td><td>-0.039</td><td>-0.055</td><td>-0.084</td></tr>\n",
      "<tr><td style=\"text-align:left\"></td><td>(0.059)</td><td>(0.060)</td><td>(0.061)</td></tr>\n",
      "<tr><td style=\"text-align:left\"></td><td></td><td></td><td></td></tr>\n",
      "<tr><td style=\"text-align:left\">IMF bailout</td><td>-0.033</td><td>-0.033</td><td>-0.035</td></tr>\n",
      "<tr><td style=\"text-align:left\"></td><td>(0.021)</td><td>(0.021)</td><td>(0.021)</td></tr>\n",
      "<tr><td style=\"text-align:left\"></td><td></td><td></td><td></td></tr>\n",
      "<tr><td colspan=\"4\" style=\"border-bottom: 1px solid black\"></td></tr><tr><td style=\"text-align:left\">Observations</td><td>499</td><td>499</td><td>499</td></tr>\n",
      "<tr><td style=\"text-align:left\">R<sup>2</sup></td><td>0.998</td><td>0.998</td><td>0.998</td></tr>\n",
      "<tr><td style=\"text-align:left\">Adjusted R<sup>2</sup></td><td>0.998</td><td>0.997</td><td>0.998</td></tr>\n",
      "<tr><td style=\"text-align:left\">Residual Std. Error (df = 434)</td><td>0.081</td><td>0.081</td><td>0.081</td></tr>\n",
      "<tr><td colspan=\"4\" style=\"border-bottom: 1px solid black\"></td></tr><tr><td style=\"text-align:left\"><em>Note:</em></td><td colspan=\"3\" style=\"text-align:right\"><sup>*</sup>p<0.1; <sup>**</sup>p<0.05; <sup>***</sup>p<0.01</td></tr>\n",
      "</table>\n"
     ]
    }
   ],
   "source": [
    "cure_fr <- felm(log(cure)~fr+log(debt)+log(gdp)+log(pop80)+bailout|as.factor(year)+as.factor(country),\n",
    "             data=health)\n",
    "#summary(cure_fr)\n",
    "\n",
    "cure_er <- felm(log(cure)~er+log(debt)+log(gdp)+log(pop80)+bailout|as.factor(year)+as.factor(country),\n",
    "             data=health)\n",
    "#summary(cure_er)\n",
    "\n",
    "cure_bbr <- felm(log(cure)~bbr+log(debt)+log(gdp)+log(pop80)+bailout|as.factor(year)+as.factor(country),\n",
    "             data=health)\n",
    "#summary(cure_bbr)\n",
    "\n",
    "stargazer(cure_fr, cure_er, cure_bbr, type=\"html\", \n",
    "          title=\"Table 2 - Budget Setting - Curative Care\",\n",
    "          dep.var.labels=\"log(Curative care)\",\n",
    "          covariate.labels=c(\"FR\", \"ER\", \"BBR\", \"log(Debt)\", \"log(GDP)\",\n",
    "                            \"log(Population 80 above)\", \"IMF bailout\"),\n",
    "          out=\"output/table2-curative.html\")"
   ]
  },
  {
   "cell_type": "markdown",
   "metadata": {},
   "source": [
    "log(care) = FR/ER/BBR + log(gdp) + log(debt) + log(pop80) + bailout + fe(year) + fe(country)"
   ]
  },
  {
   "cell_type": "code",
   "execution_count": 75,
   "metadata": {
    "scrolled": true
   },
   "outputs": [
    {
     "name": "stdout",
     "output_type": "stream",
     "text": [
      "\n",
      "<table style=\"text-align:center\"><caption><strong>Table 3 - Budget Setting - Long Term Care</strong></caption>\n",
      "<tr><td colspan=\"4\" style=\"border-bottom: 1px solid black\"></td></tr><tr><td style=\"text-align:left\"></td><td colspan=\"3\"><em>Dependent variable:</em></td></tr>\n",
      "<tr><td></td><td colspan=\"3\" style=\"border-bottom: 1px solid black\"></td></tr>\n",
      "<tr><td style=\"text-align:left\"></td><td colspan=\"3\">log(long term care)</td></tr>\n",
      "<tr><td style=\"text-align:left\"></td><td>(1)</td><td>(2)</td><td>(3)</td></tr>\n",
      "<tr><td colspan=\"4\" style=\"border-bottom: 1px solid black\"></td></tr><tr><td style=\"text-align:left\">FR</td><td>-0.060</td><td></td><td></td></tr>\n",
      "<tr><td style=\"text-align:left\"></td><td>(0.088)</td><td></td><td></td></tr>\n",
      "<tr><td style=\"text-align:left\"></td><td></td><td></td><td></td></tr>\n",
      "<tr><td style=\"text-align:left\">ER</td><td></td><td>0.149<sup>**</sup></td><td></td></tr>\n",
      "<tr><td style=\"text-align:left\"></td><td></td><td>(0.071)</td><td></td></tr>\n",
      "<tr><td style=\"text-align:left\"></td><td></td><td></td><td></td></tr>\n",
      "<tr><td style=\"text-align:left\">BBR</td><td></td><td></td><td>0.130</td></tr>\n",
      "<tr><td style=\"text-align:left\"></td><td></td><td></td><td>(0.085)</td></tr>\n",
      "<tr><td style=\"text-align:left\"></td><td></td><td></td><td></td></tr>\n",
      "<tr><td style=\"text-align:left\">log(Debt)</td><td>0.223<sup>**</sup></td><td>0.223<sup>**</sup></td><td>0.223<sup>**</sup></td></tr>\n",
      "<tr><td style=\"text-align:left\"></td><td>(0.105)</td><td>(0.104)</td><td>(0.104)</td></tr>\n",
      "<tr><td style=\"text-align:left\"></td><td></td><td></td><td></td></tr>\n",
      "<tr><td style=\"text-align:left\">log(GDP)</td><td>2.133<sup>***</sup></td><td>2.063<sup>***</sup></td><td>2.024<sup>***</sup></td></tr>\n",
      "<tr><td style=\"text-align:left\"></td><td>(0.385)</td><td>(0.381)</td><td>(0.384)</td></tr>\n",
      "<tr><td style=\"text-align:left\"></td><td></td><td></td><td></td></tr>\n",
      "<tr><td style=\"text-align:left\">log(Population 80 above)</td><td>0.245</td><td>0.213</td><td>0.234</td></tr>\n",
      "<tr><td style=\"text-align:left\"></td><td>(0.333)</td><td>(0.328)</td><td>(0.329)</td></tr>\n",
      "<tr><td style=\"text-align:left\"></td><td></td><td></td><td></td></tr>\n",
      "<tr><td style=\"text-align:left\">IMF Bailout</td><td>-0.734<sup>***</sup></td><td>-0.752<sup>***</sup></td><td>-0.744<sup>***</sup></td></tr>\n",
      "<tr><td style=\"text-align:left\"></td><td>(0.118)</td><td>(0.118)</td><td>(0.118)</td></tr>\n",
      "<tr><td style=\"text-align:left\"></td><td></td><td></td><td></td></tr>\n",
      "<tr><td colspan=\"4\" style=\"border-bottom: 1px solid black\"></td></tr><tr><td style=\"text-align:left\">Observations</td><td>483</td><td>483</td><td>483</td></tr>\n",
      "<tr><td style=\"text-align:left\">R<sup>2</sup></td><td>0.962</td><td>0.963</td><td>0.962</td></tr>\n",
      "<tr><td style=\"text-align:left\">Adjusted R<sup>2</sup></td><td>0.957</td><td>0.957</td><td>0.957</td></tr>\n",
      "<tr><td style=\"text-align:left\">Residual Std. Error (df = 419)</td><td>0.425</td><td>0.423</td><td>0.424</td></tr>\n",
      "<tr><td colspan=\"4\" style=\"border-bottom: 1px solid black\"></td></tr><tr><td style=\"text-align:left\"><em>Note:</em></td><td colspan=\"3\" style=\"text-align:right\"><sup>*</sup>p<0.1; <sup>**</sup>p<0.05; <sup>***</sup>p<0.01</td></tr>\n",
      "</table>\n"
     ]
    }
   ],
   "source": [
    "care_fr <- felm(log(care)~fr+log(debt)+log(gdp)+log(pop80)+bailout|as.factor(year)+as.factor(country),\n",
    "             data=health)\n",
    "#summary(care_fr)\n",
    "\n",
    "care_er <- felm(log(care)~er+log(debt)+log(gdp)+log(pop80)+bailout|as.factor(year)+as.factor(country),\n",
    "             data=health)\n",
    "#summary(care_er)\n",
    "\n",
    "care_bbr <- felm(log(care)~bbr+log(debt)+log(gdp)+log(pop80)+bailout|as.factor(year)+as.factor(country),\n",
    "             data=health)\n",
    "#summary(care_bbr)\n",
    "\n",
    "stargazer(care_fr, care_er, care_bbr, type=\"html\",\n",
    "          title=\"Table 3 - Budget Setting - Long Term Care\",\n",
    "          dep.var.labels=\"log(long term care)\",\n",
    "          covariate.labels=c(\"FR\", \"ER\", \"BBR\", \"log(Debt)\", \"log(GDP)\", \n",
    "                             \"log(Population 80 above)\", \"IMF Bailout\"),\n",
    "          out=\"output/table3-longterm.html\")"
   ]
  },
  {
   "cell_type": "markdown",
   "metadata": {},
   "source": [
    "log(prev) = FR/ER/BBR + log(gdp) + log(debt) + log(pop) + bailout + gov_left + fe(year) + fe(country)"
   ]
  },
  {
   "cell_type": "code",
   "execution_count": 76,
   "metadata": {
    "scrolled": true
   },
   "outputs": [
    {
     "name": "stdout",
     "output_type": "stream",
     "text": [
      "\n",
      "<table style=\"text-align:center\"><caption><strong>Table 4 - Budget Setting - Preventative Care</strong></caption>\n",
      "<tr><td colspan=\"4\" style=\"border-bottom: 1px solid black\"></td></tr><tr><td style=\"text-align:left\"></td><td colspan=\"3\"><em>Dependent variable:</em></td></tr>\n",
      "<tr><td></td><td colspan=\"3\" style=\"border-bottom: 1px solid black\"></td></tr>\n",
      "<tr><td style=\"text-align:left\"></td><td colspan=\"3\">log(Preventative care)</td></tr>\n",
      "<tr><td style=\"text-align:left\"></td><td>(1)</td><td>(2)</td><td>(3)</td></tr>\n",
      "<tr><td colspan=\"4\" style=\"border-bottom: 1px solid black\"></td></tr><tr><td style=\"text-align:left\">FR</td><td>0.317<sup>***</sup></td><td></td><td></td></tr>\n",
      "<tr><td style=\"text-align:left\"></td><td>(0.116)</td><td></td><td></td></tr>\n",
      "<tr><td style=\"text-align:left\"></td><td></td><td></td><td></td></tr>\n",
      "<tr><td style=\"text-align:left\">ER</td><td></td><td>-0.263<sup>***</sup></td><td></td></tr>\n",
      "<tr><td style=\"text-align:left\"></td><td></td><td>(0.098)</td><td></td></tr>\n",
      "<tr><td style=\"text-align:left\"></td><td></td><td></td><td></td></tr>\n",
      "<tr><td style=\"text-align:left\">BBR</td><td></td><td></td><td>0.168</td></tr>\n",
      "<tr><td style=\"text-align:left\"></td><td></td><td></td><td>(0.116)</td></tr>\n",
      "<tr><td style=\"text-align:left\"></td><td></td><td></td><td></td></tr>\n",
      "<tr><td style=\"text-align:left\">log(Debt)</td><td>-0.435<sup>***</sup></td><td>-0.424<sup>***</sup></td><td>-0.462<sup>***</sup></td></tr>\n",
      "<tr><td style=\"text-align:left\"></td><td>(0.126)</td><td>(0.126)</td><td>(0.127)</td></tr>\n",
      "<tr><td style=\"text-align:left\"></td><td></td><td></td><td></td></tr>\n",
      "<tr><td style=\"text-align:left\">log(GDP)</td><td>2.771<sup>***</sup></td><td>3.462<sup>***</sup></td><td>3.151<sup>***</sup></td></tr>\n",
      "<tr><td style=\"text-align:left\"></td><td>(0.517)</td><td>(0.479)</td><td>(0.493)</td></tr>\n",
      "<tr><td style=\"text-align:left\"></td><td></td><td></td><td></td></tr>\n",
      "<tr><td style=\"text-align:left\">log(Population 80 above)</td><td>0.264</td><td>-0.457</td><td>-0.504</td></tr>\n",
      "<tr><td style=\"text-align:left\"></td><td>(1.084)</td><td>(1.047)</td><td>(1.053)</td></tr>\n",
      "<tr><td style=\"text-align:left\"></td><td></td><td></td><td></td></tr>\n",
      "<tr><td style=\"text-align:left\">IMF bailout</td><td>0.100</td><td>0.134</td><td>0.108</td></tr>\n",
      "<tr><td style=\"text-align:left\"></td><td>(0.172)</td><td>(0.172)</td><td>(0.173)</td></tr>\n",
      "<tr><td style=\"text-align:left\"></td><td></td><td></td><td></td></tr>\n",
      "<tr><td style=\"text-align:left\">Govt lean left</td><td>0.001</td><td>0.001</td><td>0.001</td></tr>\n",
      "<tr><td style=\"text-align:left\"></td><td>(0.001)</td><td>(0.001)</td><td>(0.001)</td></tr>\n",
      "<tr><td style=\"text-align:left\"></td><td></td><td></td><td></td></tr>\n",
      "<tr><td colspan=\"4\" style=\"border-bottom: 1px solid black\"></td></tr><tr><td style=\"text-align:left\">Observations</td><td>485</td><td>485</td><td>485</td></tr>\n",
      "<tr><td style=\"text-align:left\">R<sup>2</sup></td><td>0.929</td><td>0.928</td><td>0.928</td></tr>\n",
      "<tr><td style=\"text-align:left\">Adjusted R<sup>2</sup></td><td>0.918</td><td>0.918</td><td>0.917</td></tr>\n",
      "<tr><td style=\"text-align:left\">Residual Std. Error (df = 421)</td><td>0.553</td><td>0.553</td><td>0.556</td></tr>\n",
      "<tr><td colspan=\"4\" style=\"border-bottom: 1px solid black\"></td></tr><tr><td style=\"text-align:left\"><em>Note:</em></td><td colspan=\"3\" style=\"text-align:right\"><sup>*</sup>p<0.1; <sup>**</sup>p<0.05; <sup>***</sup>p<0.01</td></tr>\n",
      "</table>\n"
     ]
    }
   ],
   "source": [
    "prev_fr <- felm(log(prev)~fr+log(debt)+log(gdp)+log(pop)+bailout+gov_left|as.factor(year)+as.factor(country),\n",
    "             data=health)\n",
    "#summary(prev_fr)\n",
    "\n",
    "prev_er <- felm(log(prev)~er+log(debt)+log(gdp)+log(pop)+bailout+gov_left|as.factor(year)+as.factor(country),\n",
    "             data=health)\n",
    "#summary(prev_er)\n",
    "\n",
    "prev_bbr <- felm(log(prev)~bbr+log(debt)+log(gdp)+log(pop)+bailout+gov_left|as.factor(year)+as.factor(country),\n",
    "             data=health)\n",
    "#summary(prev_bbr)\n",
    "\n",
    "stargazer(prev_fr, prev_er, prev_bbr, type=\"html\", \n",
    "          title=\"Table 4 - Budget Setting - Preventative Care\",\n",
    "          dep.var.labels=\"log(Preventative care)\",\n",
    "          covariate.labels=c(\"FR\", \"ER\", \"BBR\", \"log(Debt)\", \"log(GDP)\",\n",
    "                            \"log(Population 80 above)\", \"IMF bailout\", \"Govt lean left\"),\n",
    "          out=\"output/table4-preventative.html\")"
   ]
  },
  {
   "cell_type": "markdown",
   "metadata": {},
   "source": [
    "log(pharm) = FR/ER/BBR + log(gdp) + log(debt) + log(pop) + bailout + fe(year) + fe(country)"
   ]
  },
  {
   "cell_type": "code",
   "execution_count": 77,
   "metadata": {
    "scrolled": true
   },
   "outputs": [
    {
     "name": "stdout",
     "output_type": "stream",
     "text": [
      "\n",
      "<table style=\"text-align:center\"><caption><strong>Table 5 - Budget Setting - Pharmaceutical Spending</strong></caption>\n",
      "<tr><td colspan=\"4\" style=\"border-bottom: 1px solid black\"></td></tr><tr><td style=\"text-align:left\"></td><td colspan=\"3\"><em>Dependent variable:</em></td></tr>\n",
      "<tr><td></td><td colspan=\"3\" style=\"border-bottom: 1px solid black\"></td></tr>\n",
      "<tr><td style=\"text-align:left\"></td><td colspan=\"3\">log(pharmaceutical spending)</td></tr>\n",
      "<tr><td style=\"text-align:left\"></td><td>(1)</td><td>(2)</td><td>(3)</td></tr>\n",
      "<tr><td colspan=\"4\" style=\"border-bottom: 1px solid black\"></td></tr><tr><td style=\"text-align:left\">FR</td><td>-0.015</td><td></td><td></td></tr>\n",
      "<tr><td style=\"text-align:left\"></td><td>(0.038)</td><td></td><td></td></tr>\n",
      "<tr><td style=\"text-align:left\"></td><td></td><td></td><td></td></tr>\n",
      "<tr><td style=\"text-align:left\">ER</td><td></td><td>0.024</td><td></td></tr>\n",
      "<tr><td style=\"text-align:left\"></td><td></td><td>(0.033)</td><td></td></tr>\n",
      "<tr><td style=\"text-align:left\"></td><td></td><td></td><td></td></tr>\n",
      "<tr><td style=\"text-align:left\">BBR</td><td></td><td></td><td>0.073<sup>*</sup></td></tr>\n",
      "<tr><td style=\"text-align:left\"></td><td></td><td></td><td>(0.038)</td></tr>\n",
      "<tr><td style=\"text-align:left\"></td><td></td><td></td><td></td></tr>\n",
      "<tr><td style=\"text-align:left\">log(Debt)</td><td>0.046</td><td>0.046</td><td>0.049</td></tr>\n",
      "<tr><td style=\"text-align:left\"></td><td>(0.039)</td><td>(0.039)</td><td>(0.038)</td></tr>\n",
      "<tr><td style=\"text-align:left\"></td><td></td><td></td><td></td></tr>\n",
      "<tr><td style=\"text-align:left\">log(GDP)</td><td>0.633<sup>***</sup></td><td>0.605<sup>***</sup></td><td>0.552<sup>***</sup></td></tr>\n",
      "<tr><td style=\"text-align:left\"></td><td>(0.171)</td><td>(0.160)</td><td>(0.162)</td></tr>\n",
      "<tr><td style=\"text-align:left\"></td><td></td><td></td><td></td></tr>\n",
      "<tr><td style=\"text-align:left\">log(Population)</td><td>0.935<sup>***</sup></td><td>0.971<sup>***</sup></td><td>0.949<sup>***</sup></td></tr>\n",
      "<tr><td style=\"text-align:left\"></td><td>(0.360)</td><td>(0.349)</td><td>(0.348)</td></tr>\n",
      "<tr><td style=\"text-align:left\"></td><td></td><td></td><td></td></tr>\n",
      "<tr><td style=\"text-align:left\">IMF Bailout</td><td>-0.062</td><td>-0.063</td><td>-0.064</td></tr>\n",
      "<tr><td style=\"text-align:left\"></td><td>(0.064)</td><td>(0.064)</td><td>(0.064)</td></tr>\n",
      "<tr><td style=\"text-align:left\"></td><td></td><td></td><td></td></tr>\n",
      "<tr><td colspan=\"4\" style=\"border-bottom: 1px solid black\"></td></tr><tr><td style=\"text-align:left\">Observations</td><td>611</td><td>611</td><td>611</td></tr>\n",
      "<tr><td style=\"text-align:left\">R<sup>2</sup></td><td>0.984</td><td>0.984</td><td>0.984</td></tr>\n",
      "<tr><td style=\"text-align:left\">Adjusted R<sup>2</sup></td><td>0.982</td><td>0.982</td><td>0.982</td></tr>\n",
      "<tr><td style=\"text-align:left\">Residual Std. Error (df = 547)</td><td>0.227</td><td>0.227</td><td>0.226</td></tr>\n",
      "<tr><td colspan=\"4\" style=\"border-bottom: 1px solid black\"></td></tr><tr><td style=\"text-align:left\"><em>Note:</em></td><td colspan=\"3\" style=\"text-align:right\"><sup>*</sup>p<0.1; <sup>**</sup>p<0.05; <sup>***</sup>p<0.01</td></tr>\n",
      "</table>\n"
     ]
    }
   ],
   "source": [
    "pharm_fr <- felm(log(pharm)~fr+log(debt)+log(gdp)+log(pop)+bailout|as.factor(year)+as.factor(country),\n",
    "             data=health)\n",
    "#summary(pharm_fr)\n",
    "\n",
    "pharm_er <- felm(log(pharm)~er+log(debt)+log(gdp)+log(pop)+bailout|as.factor(year)+as.factor(country),\n",
    "             data=health)\n",
    "#summary(pharm_er)\n",
    "\n",
    "pharm_bbr <- felm(log(pharm)~bbr+log(debt)+log(gdp)+log(pop)+bailout|as.factor(year)+as.factor(country),\n",
    "             data=health)\n",
    "#summary(pharm_bbr)\n",
    "\n",
    "stargazer(pharm_fr, pharm_er, pharm_bbr, type=\"html\",\n",
    "          title=\"Table 5 - Budget Setting - Pharmaceutical Spending\",\n",
    "          dep.var.labels=\"log(pharmaceutical spending)\",\n",
    "          covariate.labels=c(\"FR\", \"ER\", \"BBR\", \"log(Debt)\", \"log(GDP)\", \n",
    "                             \"log(Population)\", \"IMF Bailout\"),\n",
    "          out=\"output/table5-pharm.html\")"
   ]
  },
  {
   "cell_type": "markdown",
   "metadata": {},
   "source": [
    "### direct and indirect control of supply\n",
    "log(beds) = FR/ER/BBR + log(gdp) + log(debt) + log(pop80) + bailout + fe(year) + fe(country)"
   ]
  },
  {
   "cell_type": "code",
   "execution_count": 78,
   "metadata": {
    "scrolled": true
   },
   "outputs": [
    {
     "name": "stdout",
     "output_type": "stream",
     "text": [
      "\n",
      "<table style=\"text-align:center\"><caption><strong>Table 6 - Supply Control - Hospital Beds</strong></caption>\n",
      "<tr><td colspan=\"4\" style=\"border-bottom: 1px solid black\"></td></tr><tr><td style=\"text-align:left\"></td><td colspan=\"3\"><em>Dependent variable:</em></td></tr>\n",
      "<tr><td></td><td colspan=\"3\" style=\"border-bottom: 1px solid black\"></td></tr>\n",
      "<tr><td style=\"text-align:left\"></td><td colspan=\"3\">log(hospital beds)</td></tr>\n",
      "<tr><td style=\"text-align:left\"></td><td>(1)</td><td>(2)</td><td>(3)</td></tr>\n",
      "<tr><td colspan=\"4\" style=\"border-bottom: 1px solid black\"></td></tr><tr><td style=\"text-align:left\">FR</td><td>0.075<sup>***</sup></td><td></td><td></td></tr>\n",
      "<tr><td style=\"text-align:left\"></td><td>(0.015)</td><td></td><td></td></tr>\n",
      "<tr><td style=\"text-align:left\"></td><td></td><td></td><td></td></tr>\n",
      "<tr><td style=\"text-align:left\">ER</td><td></td><td>0.009</td><td></td></tr>\n",
      "<tr><td style=\"text-align:left\"></td><td></td><td>(0.015)</td><td></td></tr>\n",
      "<tr><td style=\"text-align:left\"></td><td></td><td></td><td></td></tr>\n",
      "<tr><td style=\"text-align:left\">BBR</td><td></td><td></td><td>0.026</td></tr>\n",
      "<tr><td style=\"text-align:left\"></td><td></td><td></td><td>(0.016)</td></tr>\n",
      "<tr><td style=\"text-align:left\"></td><td></td><td></td><td></td></tr>\n",
      "<tr><td style=\"text-align:left\">log(Debt)</td><td>-0.019</td><td>-0.010</td><td>-0.006</td></tr>\n",
      "<tr><td style=\"text-align:left\"></td><td>(0.018)</td><td>(0.018)</td><td>(0.018)</td></tr>\n",
      "<tr><td style=\"text-align:left\"></td><td></td><td></td><td></td></tr>\n",
      "<tr><td style=\"text-align:left\">log(GDP)</td><td>-0.042</td><td>0.021</td><td>0.002</td></tr>\n",
      "<tr><td style=\"text-align:left\"></td><td>(0.058)</td><td>(0.058)</td><td>(0.059)</td></tr>\n",
      "<tr><td style=\"text-align:left\"></td><td></td><td></td><td></td></tr>\n",
      "<tr><td style=\"text-align:left\">log(Population 80 above)</td><td>0.071</td><td>0.056</td><td>0.043</td></tr>\n",
      "<tr><td style=\"text-align:left\"></td><td>(0.056)</td><td>(0.058)</td><td>(0.059)</td></tr>\n",
      "<tr><td style=\"text-align:left\"></td><td></td><td></td><td></td></tr>\n",
      "<tr><td style=\"text-align:left\">IMF Bailout</td><td>0.017</td><td>0.018</td><td>0.016</td></tr>\n",
      "<tr><td style=\"text-align:left\"></td><td>(0.022)</td><td>(0.023)</td><td>(0.023)</td></tr>\n",
      "<tr><td style=\"text-align:left\"></td><td></td><td></td><td></td></tr>\n",
      "<tr><td colspan=\"4\" style=\"border-bottom: 1px solid black\"></td></tr><tr><td style=\"text-align:left\">Observations</td><td>635</td><td>635</td><td>635</td></tr>\n",
      "<tr><td style=\"text-align:left\">R<sup>2</sup></td><td>0.996</td><td>0.996</td><td>0.996</td></tr>\n",
      "<tr><td style=\"text-align:left\">Adjusted R<sup>2</sup></td><td>0.995</td><td>0.995</td><td>0.995</td></tr>\n",
      "<tr><td style=\"text-align:left\">Residual Std. Error (df = 569)</td><td>0.096</td><td>0.098</td><td>0.097</td></tr>\n",
      "<tr><td colspan=\"4\" style=\"border-bottom: 1px solid black\"></td></tr><tr><td style=\"text-align:left\"><em>Note:</em></td><td colspan=\"3\" style=\"text-align:right\"><sup>*</sup>p<0.1; <sup>**</sup>p<0.05; <sup>***</sup>p<0.01</td></tr>\n",
      "</table>\n"
     ]
    }
   ],
   "source": [
    "beds_fr <- felm(log(beds)~fr+log(debt)+log(gdp)+log(pop80)+bailout|as.factor(year)+as.factor(country),\n",
    "             data=health)\n",
    "#summary(bed_fr)\n",
    "\n",
    "beds_er <- felm(log(beds)~er+log(debt)+log(gdp)+log(pop80)+bailout|as.factor(year)+as.factor(country),\n",
    "             data=health)\n",
    "#summary(bed_er)\n",
    "\n",
    "beds_bbr <- felm(log(beds)~bbr+log(debt)+log(gdp)+log(pop80)+bailout|as.factor(year)+as.factor(country),\n",
    "             data=health)\n",
    "#summary(bed_bbr)\n",
    "\n",
    "stargazer(beds_fr, beds_er, beds_bbr, type=\"html\",\n",
    "          title=\"Table 6 - Supply Control - Hospital Beds\",\n",
    "          dep.var.labels=\"log(hospital beds)\",\n",
    "          covariate.labels=c(\"FR\", \"ER\", \"BBR\", \"log(Debt)\", \"log(GDP)\", \n",
    "                             \"log(Population 80 above)\", \"IMF Bailout\"),\n",
    "          out=\"output/table6-beds.html\")"
   ]
  },
  {
   "cell_type": "markdown",
   "metadata": {},
   "source": [
    "log(beds_ltc) = FR/ER/BBR + log(gdp) + log(debt) + log(pop80) + bailout + fe(year) + fe(country)"
   ]
  },
  {
   "cell_type": "code",
   "execution_count": 53,
   "metadata": {
    "scrolled": true
   },
   "outputs": [
    {
     "name": "stderr",
     "output_type": "stream",
     "text": [
      "Warning message in chol.default(mat, pivot = TRUE, tol = tol):\n",
      "\"the matrix is either rank-deficient or indefinite\""
     ]
    },
    {
     "name": "stdout",
     "output_type": "stream",
     "text": [
      "Error in chol.default(mat[ok, ok]) : 'a' must have dims > 0\n"
     ]
    },
    {
     "name": "stderr",
     "output_type": "stream",
     "text": [
      "Warning message in summary.felm(bedltc_fr):\n",
      "\"can't compute cluster F-test\"ERROR while rich displaying an object: Error in quantile.default(x$residuals): missing values and NaN's not allowed if 'na.rm' is FALSE\n",
      "\n",
      "Traceback:\n",
      "1. FUN(X[[i]], ...)\n",
      "2. tryCatch(withCallingHandlers({\n",
      " .     if (!mime %in% names(repr::mime2repr)) \n",
      " .         stop(\"No repr_* for mimetype \", mime, \" in repr::mime2repr\")\n",
      " .     rpr <- repr::mime2repr[[mime]](obj)\n",
      " .     if (is.null(rpr)) \n",
      " .         return(NULL)\n",
      " .     prepare_content(is.raw(rpr), rpr)\n",
      " . }, error = error_handler), error = outer_handler)\n",
      "3. tryCatchList(expr, classes, parentenv, handlers)\n",
      "4. tryCatchOne(expr, names, parentenv, handlers[[1L]])\n",
      "5. doTryCatch(return(expr), name, parentenv, handler)\n",
      "6. withCallingHandlers({\n",
      " .     if (!mime %in% names(repr::mime2repr)) \n",
      " .         stop(\"No repr_* for mimetype \", mime, \" in repr::mime2repr\")\n",
      " .     rpr <- repr::mime2repr[[mime]](obj)\n",
      " .     if (is.null(rpr)) \n",
      " .         return(NULL)\n",
      " .     prepare_content(is.raw(rpr), rpr)\n",
      " . }, error = error_handler)\n",
      "7. repr::mime2repr[[mime]](obj)\n",
      "8. repr_text.default(obj)\n",
      "9. paste(capture.output(print(obj)), collapse = \"\\n\")\n",
      "10. capture.output(print(obj))\n",
      "11. evalVis(expr)\n",
      "12. withVisible(eval(expr, pf))\n",
      "13. eval(expr, pf)\n",
      "14. eval(expr, pf)\n",
      "15. print(obj)\n",
      "16. print.summary.felm(obj)\n",
      "17. zapsmall(quantile(x$residuals), digits + 1L)\n",
      "18. quantile(x$residuals)\n",
      "19. quantile.default(x$residuals)\n",
      "20. stop(\"missing values and NaN's not allowed if 'na.rm' is FALSE\")\n"
     ]
    }
   ],
   "source": [
    "bedltc_fr <- felm(log(beds_ltc)~fr+log(debt)+log(gdp)+log(pop80)+bailout|as.factor(year)+as.factor(country),\n",
    "             data=health)\n",
    "summary(bedltc_fr)\n",
    "\n",
    "bedltc_er <- felm(log(beds_ltc)~er+log(debt)+log(gdp)+log(pop80)+bailout|as.factor(year)+as.factor(country),\n",
    "             data=health)\n",
    "summary(bedltc_er)\n",
    "\n",
    "bedltc_bbr <- felm(log(beds_ltc)~bbr+log(debt)+log(gdp)+log(pop80)+bailout|as.factor(year)+as.factor(country),\n",
    "             data=health)\n",
    "summary(bedltc_bbr)"
   ]
  },
  {
   "cell_type": "code",
   "execution_count": 83,
   "metadata": {},
   "outputs": [
    {
     "data": {
      "text/html": [
       "'numeric'"
      ],
      "text/latex": [
       "'numeric'"
      ],
      "text/markdown": [
       "'numeric'"
      ],
      "text/plain": [
       "[1] \"numeric\""
      ]
     },
     "metadata": {},
     "output_type": "display_data"
    },
    {
     "data": {
      "text/plain": [
       "   Min. 1st Qu.  Median    Mean 3rd Qu.    Max.    NA's \n",
       "   1032   25653   67888  199749  165741 1946035     227 "
      ]
     },
     "metadata": {},
     "output_type": "display_data"
    },
    {
     "data": {
      "text/html": [
       "960"
      ],
      "text/latex": [
       "960"
      ],
      "text/markdown": [
       "960"
      ],
      "text/plain": [
       "[1] 960"
      ]
     },
     "metadata": {},
     "output_type": "display_data"
    }
   ],
   "source": [
    "class(health$beds_ltc)\n",
    "summary(health$beds_ltc)\n",
    "length(health$country)"
   ]
  },
  {
   "cell_type": "markdown",
   "metadata": {},
   "source": [
    "log(capital) = FR/ER/BBR + log(gdp) + log(debt) + log(pop) + bailout + fe(year) + fe(country)"
   ]
  },
  {
   "cell_type": "code",
   "execution_count": 79,
   "metadata": {
    "scrolled": true
   },
   "outputs": [
    {
     "name": "stdout",
     "output_type": "stream",
     "text": [
      "\n",
      "<table style=\"text-align:center\"><caption><strong>Table 8 - Supply Control - Capital Investment</strong></caption>\n",
      "<tr><td colspan=\"4\" style=\"border-bottom: 1px solid black\"></td></tr><tr><td style=\"text-align:left\"></td><td colspan=\"3\"><em>Dependent variable:</em></td></tr>\n",
      "<tr><td></td><td colspan=\"3\" style=\"border-bottom: 1px solid black\"></td></tr>\n",
      "<tr><td style=\"text-align:left\"></td><td colspan=\"3\">log(capital investment)</td></tr>\n",
      "<tr><td style=\"text-align:left\"></td><td>(1)</td><td>(2)</td><td>(3)</td></tr>\n",
      "<tr><td colspan=\"4\" style=\"border-bottom: 1px solid black\"></td></tr><tr><td style=\"text-align:left\">FR</td><td>0.001</td><td></td><td></td></tr>\n",
      "<tr><td style=\"text-align:left\"></td><td>(0.060)</td><td></td><td></td></tr>\n",
      "<tr><td style=\"text-align:left\"></td><td></td><td></td><td></td></tr>\n",
      "<tr><td style=\"text-align:left\">ER</td><td></td><td>-0.040</td><td></td></tr>\n",
      "<tr><td style=\"text-align:left\"></td><td></td><td>(0.063)</td><td></td></tr>\n",
      "<tr><td style=\"text-align:left\"></td><td></td><td></td><td></td></tr>\n",
      "<tr><td style=\"text-align:left\">BBR</td><td></td><td></td><td>0.016</td></tr>\n",
      "<tr><td style=\"text-align:left\"></td><td></td><td></td><td>(0.061)</td></tr>\n",
      "<tr><td style=\"text-align:left\"></td><td></td><td></td><td></td></tr>\n",
      "<tr><td style=\"text-align:left\">log(Debt)</td><td>-0.473<sup>***</sup></td><td>-0.476<sup>***</sup></td><td>-0.472<sup>***</sup></td></tr>\n",
      "<tr><td style=\"text-align:left\"></td><td>(0.070)</td><td>(0.070)</td><td>(0.070)</td></tr>\n",
      "<tr><td style=\"text-align:left\"></td><td></td><td></td><td></td></tr>\n",
      "<tr><td style=\"text-align:left\">log(GDP)</td><td>2.050<sup>***</sup></td><td>2.042<sup>***</sup></td><td>2.037<sup>***</sup></td></tr>\n",
      "<tr><td style=\"text-align:left\"></td><td>(0.293)</td><td>(0.281)</td><td>(0.286)</td></tr>\n",
      "<tr><td style=\"text-align:left\"></td><td></td><td></td><td></td></tr>\n",
      "<tr><td style=\"text-align:left\">log(Population 80 above)</td><td>0.787</td><td>0.763</td><td>0.805</td></tr>\n",
      "<tr><td style=\"text-align:left\"></td><td>(0.673)</td><td>(0.649)</td><td>(0.654)</td></tr>\n",
      "<tr><td style=\"text-align:left\"></td><td></td><td></td><td></td></tr>\n",
      "<tr><td style=\"text-align:left\">IMF Bailout</td><td>-0.142</td><td>-0.134</td><td>-0.143</td></tr>\n",
      "<tr><td style=\"text-align:left\"></td><td>(0.110)</td><td>(0.111)</td><td>(0.110)</td></tr>\n",
      "<tr><td style=\"text-align:left\"></td><td></td><td></td><td></td></tr>\n",
      "<tr><td colspan=\"4\" style=\"border-bottom: 1px solid black\"></td></tr><tr><td style=\"text-align:left\">Observations</td><td>524</td><td>524</td><td>524</td></tr>\n",
      "<tr><td style=\"text-align:left\">R<sup>2</sup></td><td>0.976</td><td>0.976</td><td>0.976</td></tr>\n",
      "<tr><td style=\"text-align:left\">Adjusted R<sup>2</sup></td><td>0.973</td><td>0.973</td><td>0.973</td></tr>\n",
      "<tr><td style=\"text-align:left\">Residual Std. Error (df = 462)</td><td>0.360</td><td>0.360</td><td>0.360</td></tr>\n",
      "<tr><td colspan=\"4\" style=\"border-bottom: 1px solid black\"></td></tr><tr><td style=\"text-align:left\"><em>Note:</em></td><td colspan=\"3\" style=\"text-align:right\"><sup>*</sup>p<0.1; <sup>**</sup>p<0.05; <sup>***</sup>p<0.01</td></tr>\n",
      "</table>\n"
     ]
    }
   ],
   "source": [
    "cap_fr <- felm(log(cap)~fr+log(debt)+log(gdp)+log(pop)+bailout|as.factor(year)+as.factor(country),\n",
    "             data=health)\n",
    "#summary(cap_fr)\n",
    "\n",
    "cap_er <- felm(log(cap)~er+log(debt)+log(gdp)+log(pop)+bailout|as.factor(year)+as.factor(country),\n",
    "             data=health)\n",
    "#summary(cap_er)\n",
    "\n",
    "cap_bbr <- felm(log(cap)~bbr+log(debt)+log(gdp)+log(pop)+bailout|as.factor(year)+as.factor(country),\n",
    "             data=health)\n",
    "#summary(cap_bbr)\n",
    "\n",
    "stargazer(cap_fr, cap_er, cap_bbr, type=\"html\",\n",
    "          title=\"Table 8 - Supply Control - Capital Investment\",\n",
    "          dep.var.labels=\"log(capital investment)\",\n",
    "          covariate.labels=c(\"FR\", \"ER\", \"BBR\", \"log(Debt)\", \"log(GDP)\", \n",
    "                             \"log(Population 80 above)\", \"IMF Bailout\"),\n",
    "          out=\"output/table8-capital.html\")"
   ]
  },
  {
   "cell_type": "code",
   "execution_count": 72,
   "metadata": {},
   "outputs": [],
   "source": [
    "rm(budget1)\n",
    "rm(sample)"
   ]
  }
 ],
 "metadata": {
  "kernelspec": {
   "display_name": "R",
   "language": "R",
   "name": "ir"
  },
  "language_info": {
   "codemirror_mode": "r",
   "file_extension": ".r",
   "mimetype": "text/x-r-source",
   "name": "R",
   "pygments_lexer": "r",
   "version": "3.6.0"
  }
 },
 "nbformat": 4,
 "nbformat_minor": 2
}
